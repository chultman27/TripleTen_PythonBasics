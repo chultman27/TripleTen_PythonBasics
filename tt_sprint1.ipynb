{
 "cells": [
  {
   "cell_type": "markdown",
   "id": "f85a80d2",
   "metadata": {},
   "source": [
    "## Basic Python - Project <a id='intro'></a>"
   ]
  },
  {
   "cell_type": "markdown",
   "id": "a1262df4",
   "metadata": {},
   "source": [
    "## Introduction <a id='intro'></a>\n",
    "In this project, you will work with data from the entertainment industry. You will study a dataset with records on movies and shows. The research will focus on the \"Golden Age\" of television, which began in 1999 with the release of *The Sopranos* and is still ongoing.\n",
    "\n",
    "The aim of this project is to investigate how the number of votes a title receives impacts its ratings. The assumption is that highly-rated shows (we will focus on TV shows, ignoring movies) released during the \"Golden Age\" of television also have the most votes.\n",
    "\n",
    "### Stages \n",
    "Data on movies and shows is stored in the `/datasets/movies_and_shows.csv` file. There is no information about the quality of the data, so you will need to explore it before doing the analysis.\n",
    "\n",
    "First, you'll evaluate the quality of the data and see whether its issues are significant. Then, during data preprocessing, you will try to account for the most critical problems.\n",
    " \n",
    "Your project will consist of three stages:\n",
    " 1. Data overview\n",
    " 2. Data preprocessing\n",
    " 3. Data analysis"
   ]
  },
  {
   "cell_type": "markdown",
   "id": "ac0593ac",
   "metadata": {},
   "source": [
    "## Stage 1. Data overview <a id='data_review'></a>\n",
    "\n",
    "Open and explore the data."
   ]
  },
  {
   "cell_type": "code",
   "execution_count": 59,
   "id": "1727d3f8",
   "metadata": {
    "trusted": false
   },
   "outputs": [],
   "source": [
    "#import libraries\n",
    "import pandas as pd\n"
   ]
  },
  {
   "cell_type": "markdown",
   "id": "9821beeb",
   "metadata": {},
   "source": [
    "Read the `movies_and_shows.csv` file from the `datasets` folder and save it in the `df` variable:"
   ]
  },
  {
   "cell_type": "code",
   "execution_count": 60,
   "id": "fc5a1402",
   "metadata": {
    "trusted": false
   },
   "outputs": [],
   "source": [
    "df = pd.read_csv(\"/datasets/movies_and_shows.csv\")\n"
   ]
  },
  {
   "cell_type": "markdown",
   "id": "1cd0a96d",
   "metadata": {},
   "source": [
    "Print the first 10 table rows:"
   ]
  },
  {
   "cell_type": "code",
   "execution_count": 61,
   "id": "acd92001",
   "metadata": {
    "trusted": false
   },
   "outputs": [
    {
     "data": {
      "text/html": [
       "<div>\n",
       "<style scoped>\n",
       "    .dataframe tbody tr th:only-of-type {\n",
       "        vertical-align: middle;\n",
       "    }\n",
       "\n",
       "    .dataframe tbody tr th {\n",
       "        vertical-align: top;\n",
       "    }\n",
       "\n",
       "    .dataframe thead th {\n",
       "        text-align: right;\n",
       "    }\n",
       "</style>\n",
       "<table border=\"1\" class=\"dataframe\">\n",
       "  <thead>\n",
       "    <tr style=\"text-align: right;\">\n",
       "      <th></th>\n",
       "      <th>name</th>\n",
       "      <th>Character</th>\n",
       "      <th>r0le</th>\n",
       "      <th>TITLE</th>\n",
       "      <th>Type</th>\n",
       "      <th>release Year</th>\n",
       "      <th>genres</th>\n",
       "      <th>imdb sc0re</th>\n",
       "      <th>imdb v0tes</th>\n",
       "    </tr>\n",
       "  </thead>\n",
       "  <tbody>\n",
       "    <tr>\n",
       "      <th>0</th>\n",
       "      <td>Robert De Niro</td>\n",
       "      <td>Travis Bickle</td>\n",
       "      <td>ACTOR</td>\n",
       "      <td>Taxi Driver</td>\n",
       "      <td>MOVIE</td>\n",
       "      <td>1976</td>\n",
       "      <td>['drama', 'crime']</td>\n",
       "      <td>8.2</td>\n",
       "      <td>808582.0</td>\n",
       "    </tr>\n",
       "    <tr>\n",
       "      <th>1</th>\n",
       "      <td>Jodie Foster</td>\n",
       "      <td>Iris Steensma</td>\n",
       "      <td>ACTOR</td>\n",
       "      <td>Taxi Driver</td>\n",
       "      <td>MOVIE</td>\n",
       "      <td>1976</td>\n",
       "      <td>['drama', 'crime']</td>\n",
       "      <td>8.2</td>\n",
       "      <td>808582.0</td>\n",
       "    </tr>\n",
       "    <tr>\n",
       "      <th>2</th>\n",
       "      <td>Albert Brooks</td>\n",
       "      <td>Tom</td>\n",
       "      <td>ACTOR</td>\n",
       "      <td>Taxi Driver</td>\n",
       "      <td>MOVIE</td>\n",
       "      <td>1976</td>\n",
       "      <td>['drama', 'crime']</td>\n",
       "      <td>8.2</td>\n",
       "      <td>808582.0</td>\n",
       "    </tr>\n",
       "    <tr>\n",
       "      <th>3</th>\n",
       "      <td>Harvey Keitel</td>\n",
       "      <td>Matthew 'Sport' Higgins</td>\n",
       "      <td>ACTOR</td>\n",
       "      <td>Taxi Driver</td>\n",
       "      <td>MOVIE</td>\n",
       "      <td>1976</td>\n",
       "      <td>['drama', 'crime']</td>\n",
       "      <td>8.2</td>\n",
       "      <td>808582.0</td>\n",
       "    </tr>\n",
       "    <tr>\n",
       "      <th>4</th>\n",
       "      <td>Cybill Shepherd</td>\n",
       "      <td>Betsy</td>\n",
       "      <td>ACTOR</td>\n",
       "      <td>Taxi Driver</td>\n",
       "      <td>MOVIE</td>\n",
       "      <td>1976</td>\n",
       "      <td>['drama', 'crime']</td>\n",
       "      <td>8.2</td>\n",
       "      <td>808582.0</td>\n",
       "    </tr>\n",
       "    <tr>\n",
       "      <th>5</th>\n",
       "      <td>Peter Boyle</td>\n",
       "      <td>Wizard</td>\n",
       "      <td>ACTOR</td>\n",
       "      <td>Taxi Driver</td>\n",
       "      <td>MOVIE</td>\n",
       "      <td>1976</td>\n",
       "      <td>['drama', 'crime']</td>\n",
       "      <td>8.2</td>\n",
       "      <td>808582.0</td>\n",
       "    </tr>\n",
       "    <tr>\n",
       "      <th>6</th>\n",
       "      <td>Leonard Harris</td>\n",
       "      <td>Senator Charles Palantine</td>\n",
       "      <td>ACTOR</td>\n",
       "      <td>Taxi Driver</td>\n",
       "      <td>MOVIE</td>\n",
       "      <td>1976</td>\n",
       "      <td>['drama', 'crime']</td>\n",
       "      <td>8.2</td>\n",
       "      <td>808582.0</td>\n",
       "    </tr>\n",
       "    <tr>\n",
       "      <th>7</th>\n",
       "      <td>Diahnne Abbott</td>\n",
       "      <td>Concession Girl</td>\n",
       "      <td>ACTOR</td>\n",
       "      <td>Taxi Driver</td>\n",
       "      <td>MOVIE</td>\n",
       "      <td>1976</td>\n",
       "      <td>['drama', 'crime']</td>\n",
       "      <td>8.2</td>\n",
       "      <td>808582.0</td>\n",
       "    </tr>\n",
       "    <tr>\n",
       "      <th>8</th>\n",
       "      <td>Gino Ardito</td>\n",
       "      <td>Policeman at Rally</td>\n",
       "      <td>ACTOR</td>\n",
       "      <td>Taxi Driver</td>\n",
       "      <td>MOVIE</td>\n",
       "      <td>1976</td>\n",
       "      <td>['drama', 'crime']</td>\n",
       "      <td>8.2</td>\n",
       "      <td>808582.0</td>\n",
       "    </tr>\n",
       "    <tr>\n",
       "      <th>9</th>\n",
       "      <td>Martin Scorsese</td>\n",
       "      <td>Passenger Watching Silhouette</td>\n",
       "      <td>ACTOR</td>\n",
       "      <td>Taxi Driver</td>\n",
       "      <td>MOVIE</td>\n",
       "      <td>1976</td>\n",
       "      <td>['drama', 'crime']</td>\n",
       "      <td>8.2</td>\n",
       "      <td>808582.0</td>\n",
       "    </tr>\n",
       "  </tbody>\n",
       "</table>\n",
       "</div>"
      ],
      "text/plain": [
       "              name                      Character   r0le        TITLE   Type  \\\n",
       "0   Robert De Niro                  Travis Bickle  ACTOR  Taxi Driver  MOVIE   \n",
       "1     Jodie Foster                  Iris Steensma  ACTOR  Taxi Driver  MOVIE   \n",
       "2    Albert Brooks                            Tom  ACTOR  Taxi Driver  MOVIE   \n",
       "3    Harvey Keitel        Matthew 'Sport' Higgins  ACTOR  Taxi Driver  MOVIE   \n",
       "4  Cybill Shepherd                          Betsy  ACTOR  Taxi Driver  MOVIE   \n",
       "5      Peter Boyle                         Wizard  ACTOR  Taxi Driver  MOVIE   \n",
       "6   Leonard Harris      Senator Charles Palantine  ACTOR  Taxi Driver  MOVIE   \n",
       "7   Diahnne Abbott                Concession Girl  ACTOR  Taxi Driver  MOVIE   \n",
       "8      Gino Ardito             Policeman at Rally  ACTOR  Taxi Driver  MOVIE   \n",
       "9  Martin Scorsese  Passenger Watching Silhouette  ACTOR  Taxi Driver  MOVIE   \n",
       "\n",
       "   release Year              genres  imdb sc0re  imdb v0tes  \n",
       "0          1976  ['drama', 'crime']         8.2    808582.0  \n",
       "1          1976  ['drama', 'crime']         8.2    808582.0  \n",
       "2          1976  ['drama', 'crime']         8.2    808582.0  \n",
       "3          1976  ['drama', 'crime']         8.2    808582.0  \n",
       "4          1976  ['drama', 'crime']         8.2    808582.0  \n",
       "5          1976  ['drama', 'crime']         8.2    808582.0  \n",
       "6          1976  ['drama', 'crime']         8.2    808582.0  \n",
       "7          1976  ['drama', 'crime']         8.2    808582.0  \n",
       "8          1976  ['drama', 'crime']         8.2    808582.0  \n",
       "9          1976  ['drama', 'crime']         8.2    808582.0  "
      ]
     },
     "metadata": {},
     "output_type": "display_data"
    }
   ],
   "source": [
    "# obtaining the first 10 rows from the df table\n",
    "display(df.head(10))\n",
    "# hint: you can use head() and tail() in Jupyter Notebook without wrapping them into print()\n"
   ]
  },
  {
   "cell_type": "markdown",
   "id": "e579aa91",
   "metadata": {},
   "source": [
    "Obtain the general information about the table with one command:"
   ]
  },
  {
   "cell_type": "code",
   "execution_count": 62,
   "id": "7bf66d2a",
   "metadata": {
    "trusted": false
   },
   "outputs": [
    {
     "name": "stdout",
     "output_type": "stream",
     "text": [
      "<class 'pandas.core.frame.DataFrame'>\n",
      "RangeIndex: 85579 entries, 0 to 85578\n",
      "Data columns (total 9 columns):\n",
      " #   Column        Non-Null Count  Dtype  \n",
      "---  ------        --------------  -----  \n",
      " 0      name       85579 non-null  object \n",
      " 1   Character     85579 non-null  object \n",
      " 2   r0le          85579 non-null  object \n",
      " 3   TITLE         85578 non-null  object \n",
      " 4     Type        85579 non-null  object \n",
      " 5   release Year  85579 non-null  int64  \n",
      " 6   genres        85579 non-null  object \n",
      " 7   imdb sc0re    80970 non-null  float64\n",
      " 8   imdb v0tes    80853 non-null  float64\n",
      "dtypes: float64(2), int64(1), object(6)\n",
      "memory usage: 5.9+ MB\n",
      "None\n"
     ]
    }
   ],
   "source": [
    "# obtaining general information about the data in df\n",
    "print(df.info())\n"
   ]
  },
  {
   "cell_type": "markdown",
   "id": "e91f62a7",
   "metadata": {},
   "source": [
    "The table contains nine columns. The majority store the same data type: object. The only exceptions are `'release Year'` (int64 type), `'imdb sc0re'` (float64 type) and `'imdb v0tes'` (float64 type). Scores and votes will be used in our analysis, so it's important to verify that they are present in the dataframe in the appropriate numeric format. Three columns (`'TITLE'`, `'imdb sc0re'` and `'imdb v0tes'`) have missing values.\n",
    "\n",
    "According to the documentation:\n",
    "- `'name'` — actor/director's name and last name\n",
    "- `'Character'` — character played (for actors)\n",
    "- `'r0le '` — the person's contribution to the title (it can be in the capacity of either actor or director)\n",
    "- `'TITLE '` — title of the movie (show)\n",
    "- `'  Type'` — show or movie\n",
    "- `'release Year'` — year when movie (show) was released\n",
    "- `'genres'` — list of genres under which the movie (show) falls\n",
    "- `'imdb sc0re'` — score on IMDb\n",
    "- `'imdb v0tes'` — votes on IMDb\n",
    "\n",
    "We can see three issues with the column names:\n",
    "1. Some names are uppercase, while others are lowercase.\n",
    "2. There are names containing whitespace.\n",
    "3. A few column names have digit '0' instead of letter 'o'. \n"
   ]
  },
  {
   "cell_type": "markdown",
   "id": "4355de7b",
   "metadata": {},
   "source": [
    "### Conclusions <a id='data_review_conclusions'></a> \n",
    "\n",
    "Each row in the table stores data about a movie or show. The columns can be divided into two categories: the first is about the roles held by different people who worked on the movie or show (role, name of the actor or director, and character if the row is about an actor); the second category is information about the movie or show itself (title, release year, genre, imdb figures).\n",
    "\n",
    "It's clear that there is sufficient data to do the analysis and evaluate our assumption. However, to move forward, we need to preprocess the data."
   ]
  },
  {
   "cell_type": "markdown",
   "id": "c5dc9111",
   "metadata": {},
   "source": [
    "## Stage 2. Data preprocessing <a id='data_preprocessing'></a>\n",
    "Correct the formatting in the column headers and deal with the missing values. Then, check whether there are duplicates in the data."
   ]
  },
  {
   "cell_type": "code",
   "execution_count": 63,
   "id": "9c850d13",
   "metadata": {
    "trusted": false
   },
   "outputs": [
    {
     "name": "stdout",
     "output_type": "stream",
     "text": [
      "Index(['   name', 'Character', 'r0le', 'TITLE', '  Type', 'release Year',\n",
      "       'genres', 'imdb sc0re', 'imdb v0tes'],\n",
      "      dtype='object')\n"
     ]
    }
   ],
   "source": [
    "# the list of column names in the df table\n",
    "print(df.columns)\n"
   ]
  },
  {
   "cell_type": "markdown",
   "id": "5f966df9",
   "metadata": {},
   "source": [
    "Change the column names according to the rules of good style:\n",
    "* If the name has several words, use snake_case\n",
    "* All characters must be lowercase\n",
    "* Remove whitespace\n",
    "* Replace zero with letter 'o'"
   ]
  },
  {
   "cell_type": "code",
   "execution_count": 64,
   "id": "23a1dc11",
   "metadata": {
    "trusted": false
   },
   "outputs": [],
   "source": [
    "# renaming columns\n",
    "df = df.rename(columns = {'   name':'name', 'Character':'character', 'r0le':'role', 'TITLE':'title', '  Type':'type', 'release Year':'release_year',\n",
    "       'genres':'genres', 'imdb sc0re': 'imdb_score', 'imdb v0tes':'imdb_votes'})\n",
    "\n"
   ]
  },
  {
   "cell_type": "markdown",
   "id": "464fbd04",
   "metadata": {},
   "source": [
    "Check the result. Print the names of the columns once more:"
   ]
  },
  {
   "cell_type": "code",
   "execution_count": 65,
   "id": "0eb6527f",
   "metadata": {
    "trusted": false
   },
   "outputs": [
    {
     "name": "stdout",
     "output_type": "stream",
     "text": [
      "Index(['name', 'character', 'role', 'title', 'type', 'release_year', 'genres',\n",
      "       'imdb_score', 'imdb_votes'],\n",
      "      dtype='object')\n"
     ]
    }
   ],
   "source": [
    "# checking result: the list of column names\n",
    "print(df.columns)"
   ]
  },
  {
   "cell_type": "markdown",
   "id": "14d9c319",
   "metadata": {},
   "source": [
    "### Missing values <a id='missing_values'></a>\n",
    "First, find the number of missing values in the table. To do so, combine two `pandas` methods:"
   ]
  },
  {
   "cell_type": "code",
   "execution_count": 66,
   "id": "21c427f2",
   "metadata": {
    "trusted": false
   },
   "outputs": [
    {
     "name": "stdout",
     "output_type": "stream",
     "text": [
      "name               0\n",
      "character          0\n",
      "role               0\n",
      "title              1\n",
      "type               0\n",
      "release_year       0\n",
      "genres             0\n",
      "imdb_score      4609\n",
      "imdb_votes      4726\n",
      "dtype: int64\n"
     ]
    }
   ],
   "source": [
    "# calculating missing values\n",
    "print(df.isna().sum())\n"
   ]
  },
  {
   "cell_type": "markdown",
   "id": "c8272df3",
   "metadata": {},
   "source": [
    "We identified missing values in several columns. While the missing value in `'title'` isn't critical, missing values in `'imdb_score'` and `'imdb_votes'` affect around 6% of the data, which could impact our analysis. To ensure data integrity, we'll drop all rows with missing values."
   ]
  },
  {
   "cell_type": "code",
   "execution_count": 67,
   "id": "599d5550",
   "metadata": {
    "trusted": false
   },
   "outputs": [],
   "source": [
    "# dropping rows where columns with scores, and votes have missing values\n",
    "df = df.dropna(axis= 0)\n"
   ]
  },
  {
   "cell_type": "markdown",
   "id": "2156887f",
   "metadata": {},
   "source": [
    "Make sure the table doesn't contain any more missing values. Count the missing values again."
   ]
  },
  {
   "cell_type": "code",
   "execution_count": 68,
   "id": "55c0b0ce",
   "metadata": {
    "trusted": false
   },
   "outputs": [
    {
     "name": "stdout",
     "output_type": "stream",
     "text": [
      "name            0\n",
      "character       0\n",
      "role            0\n",
      "title           0\n",
      "type            0\n",
      "release_year    0\n",
      "genres          0\n",
      "imdb_score      0\n",
      "imdb_votes      0\n",
      "dtype: int64\n"
     ]
    }
   ],
   "source": [
    "# counting missing values\n",
    "print(df.isna().sum())"
   ]
  },
  {
   "cell_type": "markdown",
   "id": "a7dc7aa0",
   "metadata": {},
   "source": [
    "### Duplicates <a id='duplicates'></a>\n",
    "Find the number of duplicate rows in the table using one command:"
   ]
  },
  {
   "cell_type": "code",
   "execution_count": 69,
   "id": "9227df01",
   "metadata": {
    "trusted": false
   },
   "outputs": [
    {
     "name": "stdout",
     "output_type": "stream",
     "text": [
      "6994\n"
     ]
    }
   ],
   "source": [
    "# counting duplicate rows\n",
    "print(df.duplicated().sum())"
   ]
  },
  {
   "cell_type": "markdown",
   "id": "5f6eb0fc",
   "metadata": {},
   "source": [
    "Review the duplicate rows to determine if removing them would distort our dataset."
   ]
  },
  {
   "cell_type": "code",
   "execution_count": 70,
   "id": "bcf32fcb",
   "metadata": {
    "trusted": false
   },
   "outputs": [
    {
     "data": {
      "text/html": [
       "<div>\n",
       "<style scoped>\n",
       "    .dataframe tbody tr th:only-of-type {\n",
       "        vertical-align: middle;\n",
       "    }\n",
       "\n",
       "    .dataframe tbody tr th {\n",
       "        vertical-align: top;\n",
       "    }\n",
       "\n",
       "    .dataframe thead th {\n",
       "        text-align: right;\n",
       "    }\n",
       "</style>\n",
       "<table border=\"1\" class=\"dataframe\">\n",
       "  <thead>\n",
       "    <tr style=\"text-align: right;\">\n",
       "      <th></th>\n",
       "      <th>name</th>\n",
       "      <th>character</th>\n",
       "      <th>role</th>\n",
       "      <th>title</th>\n",
       "      <th>type</th>\n",
       "      <th>release_year</th>\n",
       "      <th>genres</th>\n",
       "      <th>imdb_score</th>\n",
       "      <th>imdb_votes</th>\n",
       "    </tr>\n",
       "  </thead>\n",
       "  <tbody>\n",
       "    <tr>\n",
       "      <th>85569</th>\n",
       "      <td>Jessica Cediel</td>\n",
       "      <td>Liliana Navarro</td>\n",
       "      <td>ACTOR</td>\n",
       "      <td>Lokillo</td>\n",
       "      <td>MOVIE</td>\n",
       "      <td>2021</td>\n",
       "      <td>['comedy']</td>\n",
       "      <td>3.8</td>\n",
       "      <td>68.0</td>\n",
       "    </tr>\n",
       "    <tr>\n",
       "      <th>85570</th>\n",
       "      <td>Javier Gardeaz?­bal</td>\n",
       "      <td>Agust??n \"Peluca\" Ort??z</td>\n",
       "      <td>ACTOR</td>\n",
       "      <td>Lokillo</td>\n",
       "      <td>MOVIE</td>\n",
       "      <td>2021</td>\n",
       "      <td>['comedy']</td>\n",
       "      <td>3.8</td>\n",
       "      <td>68.0</td>\n",
       "    </tr>\n",
       "    <tr>\n",
       "      <th>85571</th>\n",
       "      <td>Carla Giraldo</td>\n",
       "      <td>Valery Reinoso</td>\n",
       "      <td>ACTOR</td>\n",
       "      <td>Lokillo</td>\n",
       "      <td>MOVIE</td>\n",
       "      <td>2021</td>\n",
       "      <td>['comedy']</td>\n",
       "      <td>3.8</td>\n",
       "      <td>68.0</td>\n",
       "    </tr>\n",
       "    <tr>\n",
       "      <th>85572</th>\n",
       "      <td>Ana Mar??a S?­nchez</td>\n",
       "      <td>Lourdes</td>\n",
       "      <td>ACTOR</td>\n",
       "      <td>Lokillo</td>\n",
       "      <td>MOVIE</td>\n",
       "      <td>2021</td>\n",
       "      <td>['comedy']</td>\n",
       "      <td>3.8</td>\n",
       "      <td>68.0</td>\n",
       "    </tr>\n",
       "    <tr>\n",
       "      <th>85577</th>\n",
       "      <td>Isabel Gaona</td>\n",
       "      <td>Cacica</td>\n",
       "      <td>ACTOR</td>\n",
       "      <td>Lokillo</td>\n",
       "      <td>MOVIE</td>\n",
       "      <td>2021</td>\n",
       "      <td>['comedy']</td>\n",
       "      <td>3.8</td>\n",
       "      <td>68.0</td>\n",
       "    </tr>\n",
       "  </tbody>\n",
       "</table>\n",
       "</div>"
      ],
      "text/plain": [
       "                      name                 character   role    title   type  \\\n",
       "85569       Jessica Cediel           Liliana Navarro  ACTOR  Lokillo  MOVIE   \n",
       "85570  Javier Gardeaz?­bal  Agust??n \"Peluca\" Ort??z  ACTOR  Lokillo  MOVIE   \n",
       "85571        Carla Giraldo            Valery Reinoso  ACTOR  Lokillo  MOVIE   \n",
       "85572  Ana Mar??a S?­nchez                   Lourdes  ACTOR  Lokillo  MOVIE   \n",
       "85577         Isabel Gaona                    Cacica  ACTOR  Lokillo  MOVIE   \n",
       "\n",
       "       release_year      genres  imdb_score  imdb_votes  \n",
       "85569          2021  ['comedy']         3.8        68.0  \n",
       "85570          2021  ['comedy']         3.8        68.0  \n",
       "85571          2021  ['comedy']         3.8        68.0  \n",
       "85572          2021  ['comedy']         3.8        68.0  \n",
       "85577          2021  ['comedy']         3.8        68.0  "
      ]
     },
     "metadata": {},
     "output_type": "display_data"
    }
   ],
   "source": [
    "# Produce table with duplicates (with original rows included) and review last 5 rows\n",
    "df_duplicates = df[df.duplicated(keep= False)]\n",
    "display(df_duplicates.tail(5))\n"
   ]
  },
  {
   "cell_type": "markdown",
   "id": "a1ed6640",
   "metadata": {},
   "source": [
    "There are two clear duplicates in the printed rows. We can safely remove them.\n",
    "Call the `pandas` method for getting rid of duplicate rows:"
   ]
  },
  {
   "cell_type": "code",
   "execution_count": 71,
   "id": "724d5bc8",
   "metadata": {
    "trusted": false
   },
   "outputs": [],
   "source": [
    "# removing duplicate rows\n",
    "df = df.drop_duplicates()"
   ]
  },
  {
   "cell_type": "markdown",
   "id": "fc8c77ba",
   "metadata": {},
   "source": [
    "Check for duplicate rows once more to make sure you have removed all of them:"
   ]
  },
  {
   "cell_type": "code",
   "execution_count": 72,
   "id": "8091a9bc",
   "metadata": {
    "trusted": false
   },
   "outputs": [
    {
     "name": "stdout",
     "output_type": "stream",
     "text": [
      "0\n"
     ]
    }
   ],
   "source": [
    "# checking for duplicates\n",
    "print(df.duplicated().sum())"
   ]
  },
  {
   "cell_type": "markdown",
   "id": "1d802b07",
   "metadata": {},
   "source": [
    "Now get rid of implicit duplicates in the `'type'` column. For example, the string `'SHOW'` can be written in different ways. These kinds of errors will also affect the result."
   ]
  },
  {
   "cell_type": "markdown",
   "id": "d5f987ed",
   "metadata": {},
   "source": [
    "Print a list of unique `'type'` names, sorted in alphabetical order. To do so:\n",
    "* Retrieve the intended dataframe column \n",
    "* Apply a sorting method to it\n",
    "* For the sorted column, call the method that will return all unique column values"
   ]
  },
  {
   "cell_type": "code",
   "execution_count": 73,
   "id": "3d7b0ac5",
   "metadata": {
    "trusted": false
   },
   "outputs": [
    {
     "name": "stdout",
     "output_type": "stream",
     "text": [
      "['MOVIE' 'the movie' 'tv show' 'shows' 'movies' 'tv shows' 'tv series'\n",
      " 'tv' 'SHOW']\n"
     ]
    }
   ],
   "source": [
    "# viewing unique type names\n",
    "print(df['type'].unique())"
   ]
  },
  {
   "cell_type": "markdown",
   "id": "ac6e8b18",
   "metadata": {},
   "source": [
    "Look through the list to find implicit duplicates of `'show'` (`'movie'` duplicates will be ignored since the assumption is about shows). These could be names written incorrectly or alternative names of the same genre.\n",
    "\n",
    "You will see the following implicit duplicates:\n",
    "* `'shows'`\n",
    "* `'SHOW'`\n",
    "* `'tv show'`\n",
    "* `'tv shows'`\n",
    "* `'tv series'`\n",
    "* `'tv'`\n",
    "\n",
    "To get rid of them, declare the function `replace_wrong_show()` with two parameters: \n",
    "* `wrong_shows_list=` — the list of duplicates\n",
    "* `correct_show=` — the string with the correct value\n",
    "\n",
    "The function should correct the names in the `'type'` column from the `df` table (i.e., replace each value from the `wrong_shows_list` list with the value in `correct_show`)."
   ]
  },
  {
   "cell_type": "code",
   "execution_count": 74,
   "id": "bff944f9",
   "metadata": {
    "trusted": false
   },
   "outputs": [],
   "source": [
    "# function for replacing implicit duplicates\n",
    "def replace_wrong_show(text):\n",
    "    # List of terms to replace\n",
    "    wrong_shows_list = [\n",
    "        'shows',\n",
    "        'SHOW',\n",
    "        'tv show',\n",
    "        'tv shows',\n",
    "        'tv series',\n",
    "        'tv'\n",
    "    ]\n",
    "    correct_show = 'show'\n",
    "    \n",
    "    # Replace each term in the text with \"SHOW\"\n",
    "    for term in wrong_shows_list:\n",
    "        text = text.replace(term, correct_show)\n",
    "    \n",
    "    return text\n"
   ]
  },
  {
   "cell_type": "markdown",
   "id": "d02d13a6",
   "metadata": {},
   "source": [
    "Call `replace_wrong_show()` and pass it arguments so that it clears implicit duplicates and replaces them with `SHOW`:"
   ]
  },
  {
   "cell_type": "code",
   "execution_count": 75,
   "id": "a2217e53",
   "metadata": {
    "trusted": false
   },
   "outputs": [],
   "source": [
    "# removing implicit duplicates\n",
    "df['type'] = df['type'].apply(replace_wrong_show)"
   ]
  },
  {
   "cell_type": "markdown",
   "id": "318b09f7",
   "metadata": {},
   "source": [
    "Make sure the duplicate names are removed. Print the list of unique values from the `'type'` column:"
   ]
  },
  {
   "cell_type": "code",
   "execution_count": 76,
   "id": "25d49d73",
   "metadata": {
    "trusted": false
   },
   "outputs": [
    {
     "name": "stdout",
     "output_type": "stream",
     "text": [
      "['MOVIE' 'the movie' 'show' 'movies']\n"
     ]
    }
   ],
   "source": [
    "# viewing unique genre names\n",
    "print(df['type'].unique())"
   ]
  },
  {
   "cell_type": "markdown",
   "id": "18b2049e",
   "metadata": {},
   "source": [
    "### Conclusions <a id='data_preprocessing_conclusions'></a>\n",
    "We detected three issues with the data:\n",
    "\n",
    "- Incorrect header styles\n",
    "- Missing values\n",
    "- Duplicate rows and implicit duplicates\n",
    "\n",
    "The headers have been cleaned up to make processing the table simpler.\n",
    "\n",
    "All rows with missing values have been removed. \n",
    "\n",
    "The absence of duplicates will make the results more precise and easier to understand.\n",
    "\n",
    "Now we can move on to our analysis of the prepared data."
   ]
  },
  {
   "cell_type": "markdown",
   "id": "1aa0f1b1",
   "metadata": {},
   "source": [
    "## Stage 3. Data analysis <a id='hypotheses'></a>"
   ]
  },
  {
   "cell_type": "markdown",
   "id": "f8fb6a0e",
   "metadata": {},
   "source": [
    "Based on the previous project stages, you can now define how the assumption will be checked. Calculate the average amount of votes for each score (this data is available in the `imdb_score` and `imdb_votes` columns), and then check how these averages relate to each other. If the averages for shows with the highest scores are bigger than those for shows with lower scores, the assumption appears to be true.\n",
    "\n",
    "Based on this, complete the following steps:\n",
    "\n",
    "- Filter the dataframe to only include shows released in 1999 or later.\n",
    "- Group scores into buckets by rounding the values of the appropriate column (a set of 1-10 integers will help us make the outcome of our calculations more evident without damaging the quality of our research).\n",
    "- Identify outliers among scores based on their number of votes, and exclude scores with few votes.\n",
    "- Calculate the average votes for each score and check whether the assumption matches the results."
   ]
  },
  {
   "cell_type": "markdown",
   "id": "0ea2cb51",
   "metadata": {},
   "source": [
    "To filter the dataframe and only include shows released in 1999 or later, you will take two steps. First, keep only titles published in 1999 or later in our dataframe. Then, filter the table to only contain shows (movies will be removed)."
   ]
  },
  {
   "cell_type": "code",
   "execution_count": 77,
   "id": "6a704aa1",
   "metadata": {
    "trusted": false
   },
   "outputs": [
    {
     "data": {
      "text/html": [
       "<div>\n",
       "<style scoped>\n",
       "    .dataframe tbody tr th:only-of-type {\n",
       "        vertical-align: middle;\n",
       "    }\n",
       "\n",
       "    .dataframe tbody tr th {\n",
       "        vertical-align: top;\n",
       "    }\n",
       "\n",
       "    .dataframe thead th {\n",
       "        text-align: right;\n",
       "    }\n",
       "</style>\n",
       "<table border=\"1\" class=\"dataframe\">\n",
       "  <thead>\n",
       "    <tr style=\"text-align: right;\">\n",
       "      <th></th>\n",
       "      <th>name</th>\n",
       "      <th>character</th>\n",
       "      <th>role</th>\n",
       "      <th>title</th>\n",
       "      <th>type</th>\n",
       "      <th>release_year</th>\n",
       "      <th>genres</th>\n",
       "      <th>imdb_score</th>\n",
       "      <th>imdb_votes</th>\n",
       "    </tr>\n",
       "  </thead>\n",
       "  <tbody>\n",
       "    <tr>\n",
       "      <th>1664</th>\n",
       "      <td>Jeff Probst</td>\n",
       "      <td>Himself - Host</td>\n",
       "      <td>ACTOR</td>\n",
       "      <td>Survivor</td>\n",
       "      <td>show</td>\n",
       "      <td>2000</td>\n",
       "      <td>['reality']</td>\n",
       "      <td>7.4</td>\n",
       "      <td>24687.0</td>\n",
       "    </tr>\n",
       "    <tr>\n",
       "      <th>1955</th>\n",
       "      <td>Benicio del Toro</td>\n",
       "      <td>Franky Four Fingers</td>\n",
       "      <td>ACTOR</td>\n",
       "      <td>Snatch</td>\n",
       "      <td>MOVIE</td>\n",
       "      <td>2000</td>\n",
       "      <td>['crime', 'comedy']</td>\n",
       "      <td>8.3</td>\n",
       "      <td>841435.0</td>\n",
       "    </tr>\n",
       "    <tr>\n",
       "      <th>1956</th>\n",
       "      <td>Dennis Farina</td>\n",
       "      <td>Cousin Avi</td>\n",
       "      <td>ACTOR</td>\n",
       "      <td>Snatch</td>\n",
       "      <td>MOVIE</td>\n",
       "      <td>2000</td>\n",
       "      <td>['crime', 'comedy']</td>\n",
       "      <td>8.3</td>\n",
       "      <td>841435.0</td>\n",
       "    </tr>\n",
       "    <tr>\n",
       "      <th>1957</th>\n",
       "      <td>Vinnie Jones</td>\n",
       "      <td>Bullet Tooth Tony</td>\n",
       "      <td>ACTOR</td>\n",
       "      <td>Snatch</td>\n",
       "      <td>MOVIE</td>\n",
       "      <td>2000</td>\n",
       "      <td>['crime', 'comedy']</td>\n",
       "      <td>8.3</td>\n",
       "      <td>841435.0</td>\n",
       "    </tr>\n",
       "    <tr>\n",
       "      <th>1958</th>\n",
       "      <td>Brad Pitt</td>\n",
       "      <td>Mickey O'Neil</td>\n",
       "      <td>ACTOR</td>\n",
       "      <td>Snatch</td>\n",
       "      <td>MOVIE</td>\n",
       "      <td>2000</td>\n",
       "      <td>['crime', 'comedy']</td>\n",
       "      <td>8.3</td>\n",
       "      <td>841435.0</td>\n",
       "    </tr>\n",
       "  </tbody>\n",
       "</table>\n",
       "</div>"
      ],
      "text/plain": [
       "                  name            character   role     title   type  \\\n",
       "1664       Jeff Probst       Himself - Host  ACTOR  Survivor   show   \n",
       "1955  Benicio del Toro  Franky Four Fingers  ACTOR    Snatch  MOVIE   \n",
       "1956     Dennis Farina           Cousin Avi  ACTOR    Snatch  MOVIE   \n",
       "1957      Vinnie Jones    Bullet Tooth Tony  ACTOR    Snatch  MOVIE   \n",
       "1958         Brad Pitt        Mickey O'Neil  ACTOR    Snatch  MOVIE   \n",
       "\n",
       "      release_year               genres  imdb_score  imdb_votes  \n",
       "1664          2000          ['reality']         7.4     24687.0  \n",
       "1955          2000  ['crime', 'comedy']         8.3    841435.0  \n",
       "1956          2000  ['crime', 'comedy']         8.3    841435.0  \n",
       "1957          2000  ['crime', 'comedy']         8.3    841435.0  \n",
       "1958          2000  ['crime', 'comedy']         8.3    841435.0  "
      ]
     },
     "metadata": {},
     "output_type": "display_data"
    }
   ],
   "source": [
    "# using conditional indexing modify df so it has only titles released after 1999 (with 1999 included)\n",
    "\n",
    "# give the slice of dataframe new name\n",
    "\n",
    "df_slice= df[df['release_year'] >= 1999]\n",
    "display(df_slice.head(5))"
   ]
  },
  {
   "cell_type": "code",
   "execution_count": 78,
   "id": "128dc6a9",
   "metadata": {
    "scrolled": true,
    "trusted": false
   },
   "outputs": [
    {
     "data": {
      "text/html": [
       "<div>\n",
       "<style scoped>\n",
       "    .dataframe tbody tr th:only-of-type {\n",
       "        vertical-align: middle;\n",
       "    }\n",
       "\n",
       "    .dataframe tbody tr th {\n",
       "        vertical-align: top;\n",
       "    }\n",
       "\n",
       "    .dataframe thead th {\n",
       "        text-align: right;\n",
       "    }\n",
       "</style>\n",
       "<table border=\"1\" class=\"dataframe\">\n",
       "  <thead>\n",
       "    <tr style=\"text-align: right;\">\n",
       "      <th></th>\n",
       "      <th>name</th>\n",
       "      <th>character</th>\n",
       "      <th>role</th>\n",
       "      <th>title</th>\n",
       "      <th>type</th>\n",
       "      <th>release_year</th>\n",
       "      <th>genres</th>\n",
       "      <th>imdb_score</th>\n",
       "      <th>imdb_votes</th>\n",
       "    </tr>\n",
       "  </thead>\n",
       "  <tbody>\n",
       "    <tr>\n",
       "      <th>1664</th>\n",
       "      <td>Jeff Probst</td>\n",
       "      <td>Himself - Host</td>\n",
       "      <td>ACTOR</td>\n",
       "      <td>Survivor</td>\n",
       "      <td>show</td>\n",
       "      <td>2000</td>\n",
       "      <td>['reality']</td>\n",
       "      <td>7.4</td>\n",
       "      <td>24687.0</td>\n",
       "    </tr>\n",
       "    <tr>\n",
       "      <th>2076</th>\n",
       "      <td>Mayumi Tanaka</td>\n",
       "      <td>Monkey D. Luffy (voice)</td>\n",
       "      <td>ACTOR</td>\n",
       "      <td>One Piece</td>\n",
       "      <td>show</td>\n",
       "      <td>1999</td>\n",
       "      <td>['animation', 'action', 'comedy', 'drama', 'fa...</td>\n",
       "      <td>8.8</td>\n",
       "      <td>117129.0</td>\n",
       "    </tr>\n",
       "    <tr>\n",
       "      <th>2077</th>\n",
       "      <td>Kazuya Nakai</td>\n",
       "      <td>Roronoa Zoro (voice)</td>\n",
       "      <td>ACTOR</td>\n",
       "      <td>One Piece</td>\n",
       "      <td>show</td>\n",
       "      <td>1999</td>\n",
       "      <td>['animation', 'action', 'comedy', 'drama', 'fa...</td>\n",
       "      <td>8.8</td>\n",
       "      <td>117129.0</td>\n",
       "    </tr>\n",
       "    <tr>\n",
       "      <th>2078</th>\n",
       "      <td>Akemi Okamura</td>\n",
       "      <td>Nami (voice)</td>\n",
       "      <td>ACTOR</td>\n",
       "      <td>One Piece</td>\n",
       "      <td>show</td>\n",
       "      <td>1999</td>\n",
       "      <td>['animation', 'action', 'comedy', 'drama', 'fa...</td>\n",
       "      <td>8.8</td>\n",
       "      <td>117129.0</td>\n",
       "    </tr>\n",
       "    <tr>\n",
       "      <th>2079</th>\n",
       "      <td>Kappei Yamaguchi</td>\n",
       "      <td>Usopp (voice)</td>\n",
       "      <td>ACTOR</td>\n",
       "      <td>One Piece</td>\n",
       "      <td>show</td>\n",
       "      <td>1999</td>\n",
       "      <td>['animation', 'action', 'comedy', 'drama', 'fa...</td>\n",
       "      <td>8.8</td>\n",
       "      <td>117129.0</td>\n",
       "    </tr>\n",
       "  </tbody>\n",
       "</table>\n",
       "</div>"
      ],
      "text/plain": [
       "                  name                character   role      title  type  \\\n",
       "1664       Jeff Probst           Himself - Host  ACTOR   Survivor  show   \n",
       "2076     Mayumi Tanaka  Monkey D. Luffy (voice)  ACTOR  One Piece  show   \n",
       "2077      Kazuya Nakai     Roronoa Zoro (voice)  ACTOR  One Piece  show   \n",
       "2078     Akemi Okamura             Nami (voice)  ACTOR  One Piece  show   \n",
       "2079  Kappei Yamaguchi            Usopp (voice)  ACTOR  One Piece  show   \n",
       "\n",
       "      release_year                                             genres  \\\n",
       "1664          2000                                        ['reality']   \n",
       "2076          1999  ['animation', 'action', 'comedy', 'drama', 'fa...   \n",
       "2077          1999  ['animation', 'action', 'comedy', 'drama', 'fa...   \n",
       "2078          1999  ['animation', 'action', 'comedy', 'drama', 'fa...   \n",
       "2079          1999  ['animation', 'action', 'comedy', 'drama', 'fa...   \n",
       "\n",
       "      imdb_score  imdb_votes  \n",
       "1664         7.4     24687.0  \n",
       "2076         8.8    117129.0  \n",
       "2077         8.8    117129.0  \n",
       "2078         8.8    117129.0  \n",
       "2079         8.8    117129.0  "
      ]
     },
     "metadata": {},
     "output_type": "display_data"
    }
   ],
   "source": [
    "# repeat conditional indexing so df has only shows (movies are removed as result)\n",
    "df_slice= df_slice[df_slice['type'] == \"show\"]\n",
    "display(df_slice.head(5))"
   ]
  },
  {
   "cell_type": "markdown",
   "id": "9648040c",
   "metadata": {},
   "source": [
    "The scores that are to be grouped should be rounded. For instance, titles with scores like 7.8, 8.1, and 8.3 will all be placed in the same bucket with a score of 8."
   ]
  },
  {
   "cell_type": "code",
   "execution_count": 79,
   "id": "54bbd5c0",
   "metadata": {
    "trusted": false
   },
   "outputs": [
    {
     "data": {
      "text/html": [
       "<div>\n",
       "<style scoped>\n",
       "    .dataframe tbody tr th:only-of-type {\n",
       "        vertical-align: middle;\n",
       "    }\n",
       "\n",
       "    .dataframe tbody tr th {\n",
       "        vertical-align: top;\n",
       "    }\n",
       "\n",
       "    .dataframe thead th {\n",
       "        text-align: right;\n",
       "    }\n",
       "</style>\n",
       "<table border=\"1\" class=\"dataframe\">\n",
       "  <thead>\n",
       "    <tr style=\"text-align: right;\">\n",
       "      <th></th>\n",
       "      <th>name</th>\n",
       "      <th>character</th>\n",
       "      <th>role</th>\n",
       "      <th>title</th>\n",
       "      <th>type</th>\n",
       "      <th>release_year</th>\n",
       "      <th>genres</th>\n",
       "      <th>imdb_score</th>\n",
       "      <th>imdb_votes</th>\n",
       "    </tr>\n",
       "  </thead>\n",
       "  <tbody>\n",
       "    <tr>\n",
       "      <th>85411</th>\n",
       "      <td>Wanessa Camargo</td>\n",
       "      <td>unknown</td>\n",
       "      <td>ACTOR</td>\n",
       "      <td>The Family That Sings Together: The Camargos</td>\n",
       "      <td>show</td>\n",
       "      <td>2021</td>\n",
       "      <td>['documentation', 'music', 'reality']</td>\n",
       "      <td>5.0</td>\n",
       "      <td>45.0</td>\n",
       "    </tr>\n",
       "    <tr>\n",
       "      <th>85429</th>\n",
       "      <td>Pranapong Khaisang</td>\n",
       "      <td>Tod</td>\n",
       "      <td>ACTOR</td>\n",
       "      <td>Let's Eat</td>\n",
       "      <td>show</td>\n",
       "      <td>2021</td>\n",
       "      <td>['drama', 'comedy']</td>\n",
       "      <td>8.0</td>\n",
       "      <td>5.0</td>\n",
       "    </tr>\n",
       "    <tr>\n",
       "      <th>85430</th>\n",
       "      <td>Apinya Sakuljaroensuk</td>\n",
       "      <td>Saiparn</td>\n",
       "      <td>ACTOR</td>\n",
       "      <td>Let's Eat</td>\n",
       "      <td>show</td>\n",
       "      <td>2021</td>\n",
       "      <td>['drama', 'comedy']</td>\n",
       "      <td>8.0</td>\n",
       "      <td>5.0</td>\n",
       "    </tr>\n",
       "    <tr>\n",
       "      <th>85431</th>\n",
       "      <td>Mawin Taweepol</td>\n",
       "      <td>Win</td>\n",
       "      <td>ACTOR</td>\n",
       "      <td>Let's Eat</td>\n",
       "      <td>show</td>\n",
       "      <td>2021</td>\n",
       "      <td>['drama', 'comedy']</td>\n",
       "      <td>8.0</td>\n",
       "      <td>5.0</td>\n",
       "    </tr>\n",
       "    <tr>\n",
       "      <th>85432</th>\n",
       "      <td>Nat Sakdatorn</td>\n",
       "      <td>unknown</td>\n",
       "      <td>ACTOR</td>\n",
       "      <td>Let's Eat</td>\n",
       "      <td>show</td>\n",
       "      <td>2021</td>\n",
       "      <td>['drama', 'comedy']</td>\n",
       "      <td>8.0</td>\n",
       "      <td>5.0</td>\n",
       "    </tr>\n",
       "    <tr>\n",
       "      <th>85433</th>\n",
       "      <td>Maneerat Kam-Uan</td>\n",
       "      <td>Ae</td>\n",
       "      <td>ACTOR</td>\n",
       "      <td>Let's Eat</td>\n",
       "      <td>show</td>\n",
       "      <td>2021</td>\n",
       "      <td>['drama', 'comedy']</td>\n",
       "      <td>8.0</td>\n",
       "      <td>5.0</td>\n",
       "    </tr>\n",
       "    <tr>\n",
       "      <th>85434</th>\n",
       "      <td>Rudklao Amratisha</td>\n",
       "      <td>unknown</td>\n",
       "      <td>ACTOR</td>\n",
       "      <td>Let's Eat</td>\n",
       "      <td>show</td>\n",
       "      <td>2021</td>\n",
       "      <td>['drama', 'comedy']</td>\n",
       "      <td>8.0</td>\n",
       "      <td>5.0</td>\n",
       "    </tr>\n",
       "    <tr>\n",
       "      <th>85435</th>\n",
       "      <td>Jaturong Mokjok</td>\n",
       "      <td>unknown</td>\n",
       "      <td>ACTOR</td>\n",
       "      <td>Let's Eat</td>\n",
       "      <td>show</td>\n",
       "      <td>2021</td>\n",
       "      <td>['drama', 'comedy']</td>\n",
       "      <td>8.0</td>\n",
       "      <td>5.0</td>\n",
       "    </tr>\n",
       "    <tr>\n",
       "      <th>85436</th>\n",
       "      <td>Pisamai Wilaisak</td>\n",
       "      <td>unknown</td>\n",
       "      <td>ACTOR</td>\n",
       "      <td>Let's Eat</td>\n",
       "      <td>show</td>\n",
       "      <td>2021</td>\n",
       "      <td>['drama', 'comedy']</td>\n",
       "      <td>8.0</td>\n",
       "      <td>5.0</td>\n",
       "    </tr>\n",
       "    <tr>\n",
       "      <th>85437</th>\n",
       "      <td>Sarawut Wichiensarn</td>\n",
       "      <td>unknown</td>\n",
       "      <td>DIRECTOR</td>\n",
       "      <td>Let's Eat</td>\n",
       "      <td>show</td>\n",
       "      <td>2021</td>\n",
       "      <td>['drama', 'comedy']</td>\n",
       "      <td>8.0</td>\n",
       "      <td>5.0</td>\n",
       "    </tr>\n",
       "  </tbody>\n",
       "</table>\n",
       "</div>"
      ],
      "text/plain": [
       "                        name character      role  \\\n",
       "85411        Wanessa Camargo   unknown     ACTOR   \n",
       "85429     Pranapong Khaisang       Tod     ACTOR   \n",
       "85430  Apinya Sakuljaroensuk   Saiparn     ACTOR   \n",
       "85431         Mawin Taweepol       Win     ACTOR   \n",
       "85432          Nat Sakdatorn   unknown     ACTOR   \n",
       "85433       Maneerat Kam-Uan        Ae     ACTOR   \n",
       "85434      Rudklao Amratisha   unknown     ACTOR   \n",
       "85435        Jaturong Mokjok   unknown     ACTOR   \n",
       "85436       Pisamai Wilaisak   unknown     ACTOR   \n",
       "85437    Sarawut Wichiensarn   unknown  DIRECTOR   \n",
       "\n",
       "                                              title  type  release_year  \\\n",
       "85411  The Family That Sings Together: The Camargos  show          2021   \n",
       "85429                                     Let's Eat  show          2021   \n",
       "85430                                     Let's Eat  show          2021   \n",
       "85431                                     Let's Eat  show          2021   \n",
       "85432                                     Let's Eat  show          2021   \n",
       "85433                                     Let's Eat  show          2021   \n",
       "85434                                     Let's Eat  show          2021   \n",
       "85435                                     Let's Eat  show          2021   \n",
       "85436                                     Let's Eat  show          2021   \n",
       "85437                                     Let's Eat  show          2021   \n",
       "\n",
       "                                      genres  imdb_score  imdb_votes  \n",
       "85411  ['documentation', 'music', 'reality']         5.0        45.0  \n",
       "85429                    ['drama', 'comedy']         8.0         5.0  \n",
       "85430                    ['drama', 'comedy']         8.0         5.0  \n",
       "85431                    ['drama', 'comedy']         8.0         5.0  \n",
       "85432                    ['drama', 'comedy']         8.0         5.0  \n",
       "85433                    ['drama', 'comedy']         8.0         5.0  \n",
       "85434                    ['drama', 'comedy']         8.0         5.0  \n",
       "85435                    ['drama', 'comedy']         8.0         5.0  \n",
       "85436                    ['drama', 'comedy']         8.0         5.0  \n",
       "85437                    ['drama', 'comedy']         8.0         5.0  "
      ]
     },
     "metadata": {},
     "output_type": "display_data"
    }
   ],
   "source": [
    "# rounding column with scores\n",
    "df_slice['imdb_score'] = df_slice['imdb_score'].round()\n",
    "#checking the outcome with tail()\n",
    "display(df_slice.tail(10))"
   ]
  },
  {
   "cell_type": "markdown",
   "id": "36dbd00a",
   "metadata": {},
   "source": [
    "It is now time to identify outliers based on the number of votes."
   ]
  },
  {
   "cell_type": "code",
   "execution_count": 80,
   "id": "59cd2d11",
   "metadata": {
    "trusted": false
   },
   "outputs": [
    {
     "data": {
      "text/html": [
       "<div>\n",
       "<style scoped>\n",
       "    .dataframe tbody tr th:only-of-type {\n",
       "        vertical-align: middle;\n",
       "    }\n",
       "\n",
       "    .dataframe tbody tr th {\n",
       "        vertical-align: top;\n",
       "    }\n",
       "\n",
       "    .dataframe thead th {\n",
       "        text-align: right;\n",
       "    }\n",
       "</style>\n",
       "<table border=\"1\" class=\"dataframe\">\n",
       "  <thead>\n",
       "    <tr style=\"text-align: right;\">\n",
       "      <th></th>\n",
       "      <th>name</th>\n",
       "      <th>character</th>\n",
       "      <th>role</th>\n",
       "      <th>title</th>\n",
       "      <th>type</th>\n",
       "      <th>release_year</th>\n",
       "      <th>genres</th>\n",
       "      <th>imdb_score</th>\n",
       "      <th>imdb_votes</th>\n",
       "    </tr>\n",
       "  </thead>\n",
       "  <tbody>\n",
       "    <tr>\n",
       "      <th>1664</th>\n",
       "      <td>Jeff Probst</td>\n",
       "      <td>Himself - Host</td>\n",
       "      <td>ACTOR</td>\n",
       "      <td>Survivor</td>\n",
       "      <td>show</td>\n",
       "      <td>2000</td>\n",
       "      <td>['reality']</td>\n",
       "      <td>7.0</td>\n",
       "      <td>24687.0</td>\n",
       "    </tr>\n",
       "    <tr>\n",
       "      <th>2076</th>\n",
       "      <td>Mayumi Tanaka</td>\n",
       "      <td>Monkey D. Luffy (voice)</td>\n",
       "      <td>ACTOR</td>\n",
       "      <td>One Piece</td>\n",
       "      <td>show</td>\n",
       "      <td>1999</td>\n",
       "      <td>['animation', 'action', 'comedy', 'drama', 'fa...</td>\n",
       "      <td>9.0</td>\n",
       "      <td>117129.0</td>\n",
       "    </tr>\n",
       "    <tr>\n",
       "      <th>2077</th>\n",
       "      <td>Kazuya Nakai</td>\n",
       "      <td>Roronoa Zoro (voice)</td>\n",
       "      <td>ACTOR</td>\n",
       "      <td>One Piece</td>\n",
       "      <td>show</td>\n",
       "      <td>1999</td>\n",
       "      <td>['animation', 'action', 'comedy', 'drama', 'fa...</td>\n",
       "      <td>9.0</td>\n",
       "      <td>117129.0</td>\n",
       "    </tr>\n",
       "    <tr>\n",
       "      <th>2078</th>\n",
       "      <td>Akemi Okamura</td>\n",
       "      <td>Nami (voice)</td>\n",
       "      <td>ACTOR</td>\n",
       "      <td>One Piece</td>\n",
       "      <td>show</td>\n",
       "      <td>1999</td>\n",
       "      <td>['animation', 'action', 'comedy', 'drama', 'fa...</td>\n",
       "      <td>9.0</td>\n",
       "      <td>117129.0</td>\n",
       "    </tr>\n",
       "    <tr>\n",
       "      <th>2079</th>\n",
       "      <td>Kappei Yamaguchi</td>\n",
       "      <td>Usopp (voice)</td>\n",
       "      <td>ACTOR</td>\n",
       "      <td>One Piece</td>\n",
       "      <td>show</td>\n",
       "      <td>1999</td>\n",
       "      <td>['animation', 'action', 'comedy', 'drama', 'fa...</td>\n",
       "      <td>9.0</td>\n",
       "      <td>117129.0</td>\n",
       "    </tr>\n",
       "  </tbody>\n",
       "</table>\n",
       "</div>"
      ],
      "text/plain": [
       "                  name                character   role      title  type  \\\n",
       "1664       Jeff Probst           Himself - Host  ACTOR   Survivor  show   \n",
       "2076     Mayumi Tanaka  Monkey D. Luffy (voice)  ACTOR  One Piece  show   \n",
       "2077      Kazuya Nakai     Roronoa Zoro (voice)  ACTOR  One Piece  show   \n",
       "2078     Akemi Okamura             Nami (voice)  ACTOR  One Piece  show   \n",
       "2079  Kappei Yamaguchi            Usopp (voice)  ACTOR  One Piece  show   \n",
       "\n",
       "      release_year                                             genres  \\\n",
       "1664          2000                                        ['reality']   \n",
       "2076          1999  ['animation', 'action', 'comedy', 'drama', 'fa...   \n",
       "2077          1999  ['animation', 'action', 'comedy', 'drama', 'fa...   \n",
       "2078          1999  ['animation', 'action', 'comedy', 'drama', 'fa...   \n",
       "2079          1999  ['animation', 'action', 'comedy', 'drama', 'fa...   \n",
       "\n",
       "      imdb_score  imdb_votes  \n",
       "1664         7.0     24687.0  \n",
       "2076         9.0    117129.0  \n",
       "2077         9.0    117129.0  \n",
       "2078         9.0    117129.0  \n",
       "2079         9.0    117129.0  "
      ]
     },
     "execution_count": 80,
     "metadata": {},
     "output_type": "execute_result"
    }
   ],
   "source": [
    "df_slice.head()"
   ]
  },
  {
   "cell_type": "code",
   "execution_count": 81,
   "id": "b8b55e95",
   "metadata": {
    "trusted": false
   },
   "outputs": [
    {
     "data": {
      "text/html": [
       "<div>\n",
       "<style scoped>\n",
       "    .dataframe tbody tr th:only-of-type {\n",
       "        vertical-align: middle;\n",
       "    }\n",
       "\n",
       "    .dataframe tbody tr th {\n",
       "        vertical-align: top;\n",
       "    }\n",
       "\n",
       "    .dataframe thead th {\n",
       "        text-align: right;\n",
       "    }\n",
       "</style>\n",
       "<table border=\"1\" class=\"dataframe\">\n",
       "  <thead>\n",
       "    <tr style=\"text-align: right;\">\n",
       "      <th></th>\n",
       "      <th>imdb_score</th>\n",
       "      <th>imdb_votes</th>\n",
       "    </tr>\n",
       "  </thead>\n",
       "  <tbody>\n",
       "    <tr>\n",
       "      <th>0</th>\n",
       "      <td>2.0</td>\n",
       "      <td>24</td>\n",
       "    </tr>\n",
       "    <tr>\n",
       "      <th>1</th>\n",
       "      <td>3.0</td>\n",
       "      <td>27</td>\n",
       "    </tr>\n",
       "    <tr>\n",
       "      <th>2</th>\n",
       "      <td>4.0</td>\n",
       "      <td>180</td>\n",
       "    </tr>\n",
       "    <tr>\n",
       "      <th>3</th>\n",
       "      <td>5.0</td>\n",
       "      <td>592</td>\n",
       "    </tr>\n",
       "    <tr>\n",
       "      <th>4</th>\n",
       "      <td>6.0</td>\n",
       "      <td>2494</td>\n",
       "    </tr>\n",
       "    <tr>\n",
       "      <th>5</th>\n",
       "      <td>7.0</td>\n",
       "      <td>4706</td>\n",
       "    </tr>\n",
       "    <tr>\n",
       "      <th>6</th>\n",
       "      <td>8.0</td>\n",
       "      <td>4842</td>\n",
       "    </tr>\n",
       "    <tr>\n",
       "      <th>7</th>\n",
       "      <td>9.0</td>\n",
       "      <td>557</td>\n",
       "    </tr>\n",
       "    <tr>\n",
       "      <th>8</th>\n",
       "      <td>10.0</td>\n",
       "      <td>8</td>\n",
       "    </tr>\n",
       "  </tbody>\n",
       "</table>\n",
       "</div>"
      ],
      "text/plain": [
       "   imdb_score  imdb_votes\n",
       "0         2.0          24\n",
       "1         3.0          27\n",
       "2         4.0         180\n",
       "3         5.0         592\n",
       "4         6.0        2494\n",
       "5         7.0        4706\n",
       "6         8.0        4842\n",
       "7         9.0         557\n",
       "8        10.0           8"
      ]
     },
     "execution_count": 81,
     "metadata": {},
     "output_type": "execute_result"
    }
   ],
   "source": [
    "# Use groupby() for scores and count all unique values in each group, print the result\n",
    "df_slice.groupby('imdb_score')['imdb_votes'].count().reset_index()\n"
   ]
  },
  {
   "cell_type": "markdown",
   "id": "1ba6daae",
   "metadata": {},
   "source": [
    "Based on the aggregation performed, it is evident that scores 2 (24 voted shows), 3 (27 voted shows), and 10 (only 8 voted shows) are outliers. There isn't enough data for these scores for the average number of votes to be meaningful."
   ]
  },
  {
   "cell_type": "markdown",
   "id": "bd468c46",
   "metadata": {},
   "source": [
    "To obtain the mean numbers of votes for the selected scores (we identified a range of 4-9 as acceptable), use conditional filtering and grouping."
   ]
  },
  {
   "cell_type": "code",
   "execution_count": 82,
   "id": "d1867e0e",
   "metadata": {
    "trusted": false
   },
   "outputs": [
    {
     "data": {
      "text/html": [
       "<div>\n",
       "<style scoped>\n",
       "    .dataframe tbody tr th:only-of-type {\n",
       "        vertical-align: middle;\n",
       "    }\n",
       "\n",
       "    .dataframe tbody tr th {\n",
       "        vertical-align: top;\n",
       "    }\n",
       "\n",
       "    .dataframe thead th {\n",
       "        text-align: right;\n",
       "    }\n",
       "</style>\n",
       "<table border=\"1\" class=\"dataframe\">\n",
       "  <thead>\n",
       "    <tr style=\"text-align: right;\">\n",
       "      <th></th>\n",
       "      <th>imdb_score</th>\n",
       "      <th>imdb_votes</th>\n",
       "    </tr>\n",
       "  </thead>\n",
       "  <tbody>\n",
       "    <tr>\n",
       "      <th>0</th>\n",
       "      <td>4.0</td>\n",
       "      <td>5277.583333</td>\n",
       "    </tr>\n",
       "    <tr>\n",
       "      <th>1</th>\n",
       "      <td>5.0</td>\n",
       "      <td>3143.942568</td>\n",
       "    </tr>\n",
       "    <tr>\n",
       "      <th>2</th>\n",
       "      <td>6.0</td>\n",
       "      <td>3481.717322</td>\n",
       "    </tr>\n",
       "    <tr>\n",
       "      <th>3</th>\n",
       "      <td>7.0</td>\n",
       "      <td>8727.068211</td>\n",
       "    </tr>\n",
       "    <tr>\n",
       "      <th>4</th>\n",
       "      <td>8.0</td>\n",
       "      <td>30299.460967</td>\n",
       "    </tr>\n",
       "    <tr>\n",
       "      <th>5</th>\n",
       "      <td>9.0</td>\n",
       "      <td>126904.109515</td>\n",
       "    </tr>\n",
       "  </tbody>\n",
       "</table>\n",
       "</div>"
      ],
      "text/plain": [
       "   imdb_score     imdb_votes\n",
       "0         4.0    5277.583333\n",
       "1         5.0    3143.942568\n",
       "2         6.0    3481.717322\n",
       "3         7.0    8727.068211\n",
       "4         8.0   30299.460967\n",
       "5         9.0  126904.109515"
      ]
     },
     "execution_count": 82,
     "metadata": {},
     "output_type": "execute_result"
    }
   ],
   "source": [
    "# filter dataframe using two conditions (scores to be in the range 4-9)\n",
    "df_slice = df_slice[df_slice['imdb_score']>= 4]\n",
    "df_slice = df_slice[df_slice['imdb_score']<= 9]\n",
    "#display(df_slice.head(5))\n",
    "\n",
    "# group scores and corresponding average number of votes, reset index and print the result\n",
    "\n",
    "df_slice = df_slice.groupby('imdb_score')['imdb_votes'].mean().reset_index()\n",
    "df_slice\n"
   ]
  },
  {
   "cell_type": "markdown",
   "id": "96a66d14",
   "metadata": {},
   "source": [
    "Now for the final step! Round the column with the averages, rename both columns, and print the dataframe in descending order."
   ]
  },
  {
   "cell_type": "code",
   "execution_count": 86,
   "id": "5999051b",
   "metadata": {
    "trusted": false
   },
   "outputs": [
    {
     "data": {
      "text/html": [
       "<div>\n",
       "<style scoped>\n",
       "    .dataframe tbody tr th:only-of-type {\n",
       "        vertical-align: middle;\n",
       "    }\n",
       "\n",
       "    .dataframe tbody tr th {\n",
       "        vertical-align: top;\n",
       "    }\n",
       "\n",
       "    .dataframe thead th {\n",
       "        text-align: right;\n",
       "    }\n",
       "</style>\n",
       "<table border=\"1\" class=\"dataframe\">\n",
       "  <thead>\n",
       "    <tr style=\"text-align: right;\">\n",
       "      <th></th>\n",
       "      <th>imdb_score</th>\n",
       "      <th>average_votes</th>\n",
       "    </tr>\n",
       "  </thead>\n",
       "  <tbody>\n",
       "    <tr>\n",
       "      <th>5</th>\n",
       "      <td>9.0</td>\n",
       "      <td>126904.0</td>\n",
       "    </tr>\n",
       "    <tr>\n",
       "      <th>4</th>\n",
       "      <td>8.0</td>\n",
       "      <td>30299.0</td>\n",
       "    </tr>\n",
       "    <tr>\n",
       "      <th>3</th>\n",
       "      <td>7.0</td>\n",
       "      <td>8727.0</td>\n",
       "    </tr>\n",
       "    <tr>\n",
       "      <th>2</th>\n",
       "      <td>6.0</td>\n",
       "      <td>3482.0</td>\n",
       "    </tr>\n",
       "    <tr>\n",
       "      <th>1</th>\n",
       "      <td>5.0</td>\n",
       "      <td>3144.0</td>\n",
       "    </tr>\n",
       "    <tr>\n",
       "      <th>0</th>\n",
       "      <td>4.0</td>\n",
       "      <td>5278.0</td>\n",
       "    </tr>\n",
       "  </tbody>\n",
       "</table>\n",
       "</div>"
      ],
      "text/plain": [
       "   imdb_score  average_votes\n",
       "5         9.0       126904.0\n",
       "4         8.0        30299.0\n",
       "3         7.0         8727.0\n",
       "2         6.0         3482.0\n",
       "1         5.0         3144.0\n",
       "0         4.0         5278.0"
      ]
     },
     "metadata": {},
     "output_type": "display_data"
    }
   ],
   "source": [
    "# round column with averages\n",
    "df_slice['imdb_votes'] = df_slice['imdb_votes'].round()\n",
    "# rename columns\n",
    "df_slice = df_slice.rename(columns = {'imdb_votes':'average_votes'})\n",
    "# print dataframe in descending order\n",
    "display(df_slice.sort_values(by= 'imdb_score',ascending= False))"
   ]
  },
  {
   "cell_type": "markdown",
   "id": "af07386d",
   "metadata": {},
   "source": [
    "The assumption macthes the analysis: the shows with the top 3 scores have the most amounts of votes."
   ]
  },
  {
   "cell_type": "markdown",
   "id": "84e29a37",
   "metadata": {},
   "source": [
    "## Conclusion <a id='hypotheses'></a>"
   ]
  },
  {
   "cell_type": "markdown",
   "id": "984766a3",
   "metadata": {},
   "source": [
    "The research done confirms that highly-rated shows released during the \"Golden Age\" of television also have the most votes. While shows with score 4 have more votes than ones with scores 5 and 6, the top three (scores 7-9) have the largest number. The data studied represents around 94% of the original set, so we can be confident in our findings."
   ]
  }
 ],
 "metadata": {
  "ExecuteTimeLog": [
   {
    "duration": 277,
    "start_time": "2024-09-24T19:05:56.290Z"
   },
   {
    "duration": 516,
    "start_time": "2024-09-24T19:06:50.816Z"
   },
   {
    "duration": 135,
    "start_time": "2024-09-24T19:07:17.162Z"
   },
   {
    "duration": 8,
    "start_time": "2024-09-24T19:07:44.855Z"
   },
   {
    "duration": 30,
    "start_time": "2024-09-24T19:08:14.515Z"
   },
   {
    "duration": 2,
    "start_time": "2024-09-24T19:10:23.700Z"
   },
   {
    "duration": 10,
    "start_time": "2024-09-24T19:14:37.962Z"
   },
   {
    "duration": 3,
    "start_time": "2024-09-24T19:15:00.469Z"
   },
   {
    "duration": 21,
    "start_time": "2024-09-24T19:16:05.317Z"
   },
   {
    "duration": 18,
    "start_time": "2024-09-24T19:16:51.362Z"
   },
   {
    "duration": 11,
    "start_time": "2024-09-24T19:19:16.943Z"
   },
   {
    "duration": 12,
    "start_time": "2024-09-24T19:19:21.965Z"
   },
   {
    "duration": 29,
    "start_time": "2024-09-24T19:20:06.060Z"
   },
   {
    "duration": 18,
    "start_time": "2024-09-24T19:20:18.569Z"
   },
   {
    "duration": 14,
    "start_time": "2024-09-24T19:21:22.797Z"
   },
   {
    "duration": 8,
    "start_time": "2024-09-24T19:22:53.982Z"
   },
   {
    "duration": 13,
    "start_time": "2024-09-24T19:23:37.092Z"
   },
   {
    "duration": 41,
    "start_time": "2024-09-24T19:26:15.697Z"
   },
   {
    "duration": 38,
    "start_time": "2024-09-24T19:28:45.832Z"
   },
   {
    "duration": 43,
    "start_time": "2024-09-24T19:28:58.391Z"
   },
   {
    "duration": 14,
    "start_time": "2024-09-24T19:29:38.757Z"
   },
   {
    "duration": 41,
    "start_time": "2024-09-24T19:29:51.198Z"
   },
   {
    "duration": 39,
    "start_time": "2024-09-24T19:30:07.875Z"
   },
   {
    "duration": 5,
    "start_time": "2024-09-24T19:30:55.773Z"
   },
   {
    "duration": 3,
    "start_time": "2024-09-24T19:35:05.544Z"
   },
   {
    "duration": 12,
    "start_time": "2024-09-24T19:35:45.164Z"
   },
   {
    "duration": 6,
    "start_time": "2024-09-25T16:08:20.364Z"
   },
   {
    "duration": 154,
    "start_time": "2024-09-25T16:08:25.199Z"
   },
   {
    "duration": 343,
    "start_time": "2024-09-25T16:08:38.020Z"
   },
   {
    "duration": 155,
    "start_time": "2024-09-25T16:08:46.647Z"
   },
   {
    "duration": 8,
    "start_time": "2024-09-25T16:08:50.826Z"
   },
   {
    "duration": 23,
    "start_time": "2024-09-25T16:08:54.073Z"
   },
   {
    "duration": 5,
    "start_time": "2024-09-25T16:08:58.027Z"
   },
   {
    "duration": 6,
    "start_time": "2024-09-25T16:08:59.982Z"
   },
   {
    "duration": 2,
    "start_time": "2024-09-25T16:09:07.919Z"
   },
   {
    "duration": 116,
    "start_time": "2024-09-25T16:09:09.730Z"
   },
   {
    "duration": 6,
    "start_time": "2024-09-25T16:09:17.909Z"
   },
   {
    "duration": 21,
    "start_time": "2024-09-25T16:09:22.342Z"
   },
   {
    "duration": 6,
    "start_time": "2024-09-25T16:09:29.557Z"
   },
   {
    "duration": 21,
    "start_time": "2024-09-25T16:09:34.989Z"
   },
   {
    "duration": 3,
    "start_time": "2024-09-25T16:09:39.775Z"
   },
   {
    "duration": 7,
    "start_time": "2024-09-25T16:09:43.309Z"
   },
   {
    "duration": 3,
    "start_time": "2024-09-25T16:09:46.558Z"
   },
   {
    "duration": 19,
    "start_time": "2024-09-25T16:09:50.133Z"
   },
   {
    "duration": 31,
    "start_time": "2024-09-25T16:09:54.856Z"
   },
   {
    "duration": 18,
    "start_time": "2024-09-25T16:09:57.445Z"
   },
   {
    "duration": 37,
    "start_time": "2024-09-25T16:10:00.677Z"
   },
   {
    "duration": 41,
    "start_time": "2024-09-25T16:10:03.058Z"
   },
   {
    "duration": 40,
    "start_time": "2024-09-25T16:10:07.215Z"
   },
   {
    "duration": 35,
    "start_time": "2024-09-25T16:10:09.710Z"
   },
   {
    "duration": 5,
    "start_time": "2024-09-25T16:10:13.006Z"
   },
   {
    "duration": 3,
    "start_time": "2024-09-25T16:10:16.618Z"
   },
   {
    "duration": 66,
    "start_time": "2024-09-25T16:10:20.047Z"
   },
   {
    "duration": 34,
    "start_time": "2024-09-25T16:11:10.913Z"
   },
   {
    "duration": 4,
    "start_time": "2024-09-25T16:11:35.393Z"
   },
   {
    "duration": 29,
    "start_time": "2024-09-25T16:14:37.325Z"
   },
   {
    "duration": 5,
    "start_time": "2024-09-25T16:14:44.364Z"
   },
   {
    "duration": 3,
    "start_time": "2024-09-25T16:14:59.785Z"
   },
   {
    "duration": 32,
    "start_time": "2024-09-25T16:15:02.510Z"
   },
   {
    "duration": 6,
    "start_time": "2024-09-25T16:15:05.331Z"
   },
   {
    "duration": 3,
    "start_time": "2024-09-25T16:15:26.719Z"
   },
   {
    "duration": 28,
    "start_time": "2024-09-25T16:15:29.192Z"
   },
   {
    "duration": 5,
    "start_time": "2024-09-25T16:15:32.291Z"
   },
   {
    "duration": 6,
    "start_time": "2024-09-25T16:15:44.431Z"
   },
   {
    "duration": 6,
    "start_time": "2024-09-25T16:16:55.433Z"
   },
   {
    "duration": 29,
    "start_time": "2024-09-25T16:16:58.537Z"
   },
   {
    "duration": 5,
    "start_time": "2024-09-25T16:17:02.045Z"
   },
   {
    "duration": 6,
    "start_time": "2024-09-25T16:22:48.893Z"
   },
   {
    "duration": 11,
    "start_time": "2024-09-25T16:23:08.683Z"
   },
   {
    "duration": 12,
    "start_time": "2024-09-25T16:24:09.713Z"
   },
   {
    "duration": 11,
    "start_time": "2024-09-25T16:27:08.658Z"
   },
   {
    "duration": 8,
    "start_time": "2024-09-25T16:27:35.566Z"
   },
   {
    "duration": 7,
    "start_time": "2024-09-25T16:28:22.210Z"
   },
   {
    "duration": 368,
    "start_time": "2024-09-25T16:35:43.341Z"
   },
   {
    "duration": 4,
    "start_time": "2024-09-25T16:36:20.070Z"
   },
   {
    "duration": 10,
    "start_time": "2024-09-25T16:36:55.244Z"
   },
   {
    "duration": 11,
    "start_time": "2024-09-25T16:37:13.222Z"
   },
   {
    "duration": 12,
    "start_time": "2024-09-25T16:37:26.825Z"
   },
   {
    "duration": 7,
    "start_time": "2024-09-25T16:38:07.034Z"
   },
   {
    "duration": 11,
    "start_time": "2024-09-25T16:40:38.262Z"
   },
   {
    "duration": 10,
    "start_time": "2024-09-25T16:44:24.100Z"
   },
   {
    "duration": 153,
    "start_time": "2024-09-25T16:46:03.916Z"
   },
   {
    "duration": 14,
    "start_time": "2024-09-25T16:46:26.262Z"
   },
   {
    "duration": 14,
    "start_time": "2024-09-25T17:08:31.067Z"
   },
   {
    "duration": 11,
    "start_time": "2024-09-25T17:09:25.335Z"
   },
   {
    "duration": 7,
    "start_time": "2024-09-25T17:10:23.719Z"
   },
   {
    "duration": 11,
    "start_time": "2024-09-25T17:10:29.128Z"
   },
   {
    "duration": 12,
    "start_time": "2024-09-25T17:13:48.193Z"
   },
   {
    "duration": 4,
    "start_time": "2024-09-25T17:15:59.639Z"
   },
   {
    "duration": 9,
    "start_time": "2024-09-25T17:16:05.658Z"
   },
   {
    "duration": 7,
    "start_time": "2024-09-25T17:16:10.303Z"
   },
   {
    "duration": 170,
    "start_time": "2024-09-25T17:22:02.305Z"
   },
   {
    "duration": 6,
    "start_time": "2024-09-25T17:22:56.058Z"
   },
   {
    "duration": 8,
    "start_time": "2024-09-25T17:23:24.230Z"
   },
   {
    "duration": 37,
    "start_time": "2024-09-25T17:26:06.237Z"
   },
   {
    "duration": 317,
    "start_time": "2024-09-25T23:35:45.554Z"
   },
   {
    "duration": 197,
    "start_time": "2024-09-25T23:35:45.873Z"
   },
   {
    "duration": 8,
    "start_time": "2024-09-25T23:35:46.072Z"
   },
   {
    "duration": 30,
    "start_time": "2024-09-25T23:35:46.084Z"
   },
   {
    "duration": 3,
    "start_time": "2024-09-25T23:35:46.125Z"
   },
   {
    "duration": 7,
    "start_time": "2024-09-25T23:35:46.129Z"
   },
   {
    "duration": 3,
    "start_time": "2024-09-25T23:35:46.138Z"
   },
   {
    "duration": 24,
    "start_time": "2024-09-25T23:35:46.142Z"
   },
   {
    "duration": 27,
    "start_time": "2024-09-25T23:35:46.168Z"
   },
   {
    "duration": 19,
    "start_time": "2024-09-25T23:35:46.224Z"
   },
   {
    "duration": 37,
    "start_time": "2024-09-25T23:35:46.245Z"
   },
   {
    "duration": 64,
    "start_time": "2024-09-25T23:35:46.286Z"
   },
   {
    "duration": 40,
    "start_time": "2024-09-25T23:35:46.352Z"
   },
   {
    "duration": 47,
    "start_time": "2024-09-25T23:35:46.395Z"
   },
   {
    "duration": 7,
    "start_time": "2024-09-25T23:35:46.443Z"
   },
   {
    "duration": 3,
    "start_time": "2024-09-25T23:35:46.452Z"
   },
   {
    "duration": 67,
    "start_time": "2024-09-25T23:35:46.457Z"
   },
   {
    "duration": 7,
    "start_time": "2024-09-25T23:35:46.526Z"
   },
   {
    "duration": 14,
    "start_time": "2024-09-25T23:35:46.534Z"
   },
   {
    "duration": 13,
    "start_time": "2024-09-25T23:35:46.550Z"
   },
   {
    "duration": 7,
    "start_time": "2024-09-25T23:35:46.565Z"
   },
   {
    "duration": 13,
    "start_time": "2024-09-25T23:35:46.574Z"
   },
   {
    "duration": 36,
    "start_time": "2024-09-25T23:35:46.589Z"
   },
   {
    "duration": 539,
    "start_time": "2024-09-25T23:35:46.627Z"
   },
   {
    "duration": 308,
    "start_time": "2024-09-26T00:07:30.354Z"
   },
   {
    "duration": 141,
    "start_time": "2024-09-26T00:07:30.664Z"
   },
   {
    "duration": 8,
    "start_time": "2024-09-26T00:07:30.807Z"
   },
   {
    "duration": 22,
    "start_time": "2024-09-26T00:07:30.824Z"
   },
   {
    "duration": 3,
    "start_time": "2024-09-26T00:07:30.849Z"
   },
   {
    "duration": 7,
    "start_time": "2024-09-26T00:07:30.854Z"
   },
   {
    "duration": 3,
    "start_time": "2024-09-26T00:07:30.863Z"
   },
   {
    "duration": 24,
    "start_time": "2024-09-26T00:07:30.867Z"
   },
   {
    "duration": 56,
    "start_time": "2024-09-26T00:07:30.893Z"
   },
   {
    "duration": 18,
    "start_time": "2024-09-26T00:07:30.951Z"
   },
   {
    "duration": 71,
    "start_time": "2024-09-26T00:07:30.970Z"
   },
   {
    "duration": 43,
    "start_time": "2024-09-26T00:07:31.043Z"
   },
   {
    "duration": 53,
    "start_time": "2024-09-26T00:07:31.087Z"
   },
   {
    "duration": 55,
    "start_time": "2024-09-26T00:07:31.144Z"
   },
   {
    "duration": 7,
    "start_time": "2024-09-26T00:07:31.201Z"
   },
   {
    "duration": 2,
    "start_time": "2024-09-26T00:07:31.224Z"
   },
   {
    "duration": 48,
    "start_time": "2024-09-26T00:07:31.229Z"
   },
   {
    "duration": 7,
    "start_time": "2024-09-26T00:07:31.278Z"
   },
   {
    "duration": 13,
    "start_time": "2024-09-26T00:07:31.287Z"
   },
   {
    "duration": 29,
    "start_time": "2024-09-26T00:07:31.302Z"
   },
   {
    "duration": 8,
    "start_time": "2024-09-26T00:07:31.333Z"
   },
   {
    "duration": 9,
    "start_time": "2024-09-26T00:07:31.342Z"
   },
   {
    "duration": 10,
    "start_time": "2024-09-26T00:07:31.352Z"
   },
   {
    "duration": 12,
    "start_time": "2024-09-26T00:07:31.363Z"
   },
   {
    "duration": 589,
    "start_time": "2024-09-26T00:07:31.377Z"
   },
   {
    "duration": 316,
    "start_time": "2024-09-26T00:12:39.772Z"
   },
   {
    "duration": 119,
    "start_time": "2024-09-26T00:12:40.090Z"
   },
   {
    "duration": 13,
    "start_time": "2024-09-26T00:12:40.211Z"
   },
   {
    "duration": 22,
    "start_time": "2024-09-26T00:12:40.227Z"
   },
   {
    "duration": 3,
    "start_time": "2024-09-26T00:12:40.251Z"
   },
   {
    "duration": 10,
    "start_time": "2024-09-26T00:12:40.256Z"
   },
   {
    "duration": 2,
    "start_time": "2024-09-26T00:12:40.269Z"
   },
   {
    "duration": 17,
    "start_time": "2024-09-26T00:12:40.273Z"
   },
   {
    "duration": 59,
    "start_time": "2024-09-26T00:12:40.292Z"
   },
   {
    "duration": 24,
    "start_time": "2024-09-26T00:12:40.355Z"
   },
   {
    "duration": 68,
    "start_time": "2024-09-26T00:12:40.380Z"
   },
   {
    "duration": 40,
    "start_time": "2024-09-26T00:12:40.451Z"
   },
   {
    "duration": 51,
    "start_time": "2024-09-26T00:12:40.495Z"
   },
   {
    "duration": 34,
    "start_time": "2024-09-26T00:12:40.548Z"
   },
   {
    "duration": 7,
    "start_time": "2024-09-26T00:12:40.584Z"
   },
   {
    "duration": 3,
    "start_time": "2024-09-26T00:12:40.592Z"
   },
   {
    "duration": 69,
    "start_time": "2024-09-26T00:12:40.597Z"
   },
   {
    "duration": 6,
    "start_time": "2024-09-26T00:12:40.668Z"
   },
   {
    "duration": 10,
    "start_time": "2024-09-26T00:12:40.676Z"
   },
   {
    "duration": 13,
    "start_time": "2024-09-26T00:12:40.688Z"
   },
   {
    "duration": 25,
    "start_time": "2024-09-26T00:12:40.703Z"
   },
   {
    "duration": 9,
    "start_time": "2024-09-26T00:12:40.731Z"
   },
   {
    "duration": 7,
    "start_time": "2024-09-26T00:12:40.742Z"
   },
   {
    "duration": 586,
    "start_time": "2024-09-26T00:12:40.751Z"
   },
   {
    "duration": 158,
    "start_time": "2024-09-27T15:41:54.500Z"
   },
   {
    "duration": 13,
    "start_time": "2024-09-27T15:42:01.320Z"
   },
   {
    "duration": 289,
    "start_time": "2024-09-27T15:42:04.468Z"
   },
   {
    "duration": 145,
    "start_time": "2024-09-27T15:42:07.272Z"
   },
   {
    "duration": 16,
    "start_time": "2024-09-27T15:42:09.889Z"
   },
   {
    "duration": 2,
    "start_time": "2024-09-27T15:45:15.025Z"
   },
   {
    "duration": 118,
    "start_time": "2024-09-27T15:45:17.889Z"
   },
   {
    "duration": 24,
    "start_time": "2024-09-27T15:45:21.257Z"
   },
   {
    "duration": 3,
    "start_time": "2024-09-27T15:45:26.783Z"
   },
   {
    "duration": 8,
    "start_time": "2024-09-27T15:45:31.566Z"
   },
   {
    "duration": 3,
    "start_time": "2024-09-27T15:45:37.525Z"
   },
   {
    "duration": 19,
    "start_time": "2024-09-27T15:45:41.499Z"
   },
   {
    "duration": 31,
    "start_time": "2024-09-27T15:45:46.382Z"
   },
   {
    "duration": 17,
    "start_time": "2024-09-27T15:45:49.524Z"
   },
   {
    "duration": 39,
    "start_time": "2024-09-27T15:45:55.075Z"
   },
   {
    "duration": 43,
    "start_time": "2024-09-27T15:45:59.553Z"
   },
   {
    "duration": 46,
    "start_time": "2024-09-27T15:47:24.889Z"
   },
   {
    "duration": 42,
    "start_time": "2024-09-27T15:48:51.376Z"
   },
   {
    "duration": 38,
    "start_time": "2024-09-27T15:48:53.390Z"
   },
   {
    "duration": 5,
    "start_time": "2024-09-27T15:48:57.727Z"
   },
   {
    "duration": 5,
    "start_time": "2024-09-27T15:49:03.719Z"
   },
   {
    "duration": 4,
    "start_time": "2024-09-27T15:49:07.510Z"
   },
   {
    "duration": 30,
    "start_time": "2024-09-27T15:49:17.305Z"
   },
   {
    "duration": 5,
    "start_time": "2024-09-27T15:49:20.287Z"
   },
   {
    "duration": 11,
    "start_time": "2024-09-27T15:49:44.245Z"
   },
   {
    "duration": 16,
    "start_time": "2024-09-27T15:49:51.020Z"
   },
   {
    "duration": 17,
    "start_time": "2024-09-27T15:50:04.435Z"
   },
   {
    "duration": 15,
    "start_time": "2024-09-27T15:50:29.892Z"
   },
   {
    "duration": 8,
    "start_time": "2024-09-27T15:50:41.517Z"
   },
   {
    "duration": 10,
    "start_time": "2024-09-27T15:50:47.169Z"
   },
   {
    "duration": 13,
    "start_time": "2024-09-27T15:51:31.949Z"
   },
   {
    "duration": 14,
    "start_time": "2024-09-27T15:51:40.470Z"
   },
   {
    "duration": 9,
    "start_time": "2024-09-27T15:52:27.589Z"
   },
   {
    "duration": 6,
    "start_time": "2024-09-27T15:52:34.968Z"
   },
   {
    "duration": 8,
    "start_time": "2024-09-27T15:53:04.816Z"
   },
   {
    "duration": 8,
    "start_time": "2024-09-27T15:53:37.925Z"
   },
   {
    "duration": 8,
    "start_time": "2024-09-27T15:53:40.797Z"
   },
   {
    "duration": 11,
    "start_time": "2024-09-27T15:55:01.425Z"
   },
   {
    "duration": 7,
    "start_time": "2024-09-27T16:00:31.788Z"
   },
   {
    "duration": 408,
    "start_time": "2024-09-27T16:00:40.114Z"
   },
   {
    "duration": 39,
    "start_time": "2024-09-27T16:00:43.574Z"
   },
   {
    "duration": 15,
    "start_time": "2024-09-27T16:00:53.837Z"
   },
   {
    "duration": 16,
    "start_time": "2024-09-27T16:00:56.907Z"
   },
   {
    "duration": 11,
    "start_time": "2024-09-27T16:01:11.796Z"
   },
   {
    "duration": 11,
    "start_time": "2024-09-27T16:01:26.444Z"
   },
   {
    "duration": 14,
    "start_time": "2024-09-27T16:01:42.052Z"
   },
   {
    "duration": 13,
    "start_time": "2024-09-27T16:01:57.995Z"
   },
   {
    "duration": 46,
    "start_time": "2024-09-27T16:05:52.456Z"
   },
   {
    "duration": 14,
    "start_time": "2024-09-27T16:06:32.311Z"
   },
   {
    "duration": 152,
    "start_time": "2024-09-27T16:06:43.918Z"
   },
   {
    "duration": 110,
    "start_time": "2024-09-27T16:06:58.701Z"
   },
   {
    "duration": 47,
    "start_time": "2024-09-27T16:07:01.877Z"
   },
   {
    "duration": 6,
    "start_time": "2024-09-27T16:07:09.894Z"
   },
   {
    "duration": 47,
    "start_time": "2024-09-27T16:07:17.572Z"
   },
   {
    "duration": 48,
    "start_time": "2024-09-27T16:08:03.048Z"
   },
   {
    "duration": 3,
    "start_time": "2024-09-27T16:10:05.494Z"
   },
   {
    "duration": 126,
    "start_time": "2024-09-27T16:10:05.499Z"
   },
   {
    "duration": 10,
    "start_time": "2024-09-27T16:10:05.627Z"
   },
   {
    "duration": 23,
    "start_time": "2024-09-27T16:10:05.638Z"
   },
   {
    "duration": 3,
    "start_time": "2024-09-27T16:10:05.664Z"
   },
   {
    "duration": 18,
    "start_time": "2024-09-27T16:10:05.669Z"
   },
   {
    "duration": 3,
    "start_time": "2024-09-27T16:10:05.689Z"
   },
   {
    "duration": 19,
    "start_time": "2024-09-27T16:10:05.694Z"
   },
   {
    "duration": 24,
    "start_time": "2024-09-27T16:10:05.714Z"
   },
   {
    "duration": 48,
    "start_time": "2024-09-27T16:10:05.739Z"
   },
   {
    "duration": 39,
    "start_time": "2024-09-27T16:10:05.789Z"
   },
   {
    "duration": 63,
    "start_time": "2024-09-27T16:10:05.830Z"
   },
   {
    "duration": 42,
    "start_time": "2024-09-27T16:10:05.894Z"
   },
   {
    "duration": 46,
    "start_time": "2024-09-27T16:10:05.940Z"
   },
   {
    "duration": 5,
    "start_time": "2024-09-27T16:10:05.988Z"
   },
   {
    "duration": 3,
    "start_time": "2024-09-27T16:10:05.995Z"
   },
   {
    "duration": 30,
    "start_time": "2024-09-27T16:10:05.999Z"
   },
   {
    "duration": 5,
    "start_time": "2024-09-27T16:10:06.030Z"
   },
   {
    "duration": 17,
    "start_time": "2024-09-27T16:10:06.037Z"
   },
   {
    "duration": 15,
    "start_time": "2024-09-27T16:10:06.087Z"
   },
   {
    "duration": 10,
    "start_time": "2024-09-27T16:10:06.104Z"
   },
   {
    "duration": 11,
    "start_time": "2024-09-27T16:10:06.117Z"
   },
   {
    "duration": 12,
    "start_time": "2024-09-27T16:10:06.130Z"
   },
   {
    "duration": 78,
    "start_time": "2024-09-27T16:10:06.144Z"
   },
   {
    "duration": 3,
    "start_time": "2024-09-27T16:10:44.374Z"
   },
   {
    "duration": 120,
    "start_time": "2024-09-27T16:10:44.379Z"
   },
   {
    "duration": 10,
    "start_time": "2024-09-27T16:10:44.502Z"
   },
   {
    "duration": 25,
    "start_time": "2024-09-27T16:10:44.514Z"
   },
   {
    "duration": 3,
    "start_time": "2024-09-27T16:10:44.542Z"
   },
   {
    "duration": 7,
    "start_time": "2024-09-27T16:10:44.547Z"
   },
   {
    "duration": 31,
    "start_time": "2024-09-27T16:10:44.556Z"
   },
   {
    "duration": 21,
    "start_time": "2024-09-27T16:10:44.589Z"
   },
   {
    "duration": 25,
    "start_time": "2024-09-27T16:10:44.611Z"
   },
   {
    "duration": 17,
    "start_time": "2024-09-27T16:10:44.638Z"
   },
   {
    "duration": 65,
    "start_time": "2024-09-27T16:10:44.659Z"
   },
   {
    "duration": 46,
    "start_time": "2024-09-27T16:10:44.726Z"
   },
   {
    "duration": 53,
    "start_time": "2024-09-27T16:10:44.773Z"
   },
   {
    "duration": 37,
    "start_time": "2024-09-27T16:10:44.828Z"
   },
   {
    "duration": 20,
    "start_time": "2024-09-27T16:10:44.867Z"
   },
   {
    "duration": 4,
    "start_time": "2024-09-27T16:10:44.889Z"
   },
   {
    "duration": 30,
    "start_time": "2024-09-27T16:10:44.895Z"
   },
   {
    "duration": 5,
    "start_time": "2024-09-27T16:10:44.927Z"
   },
   {
    "duration": 14,
    "start_time": "2024-09-27T16:10:44.933Z"
   },
   {
    "duration": 43,
    "start_time": "2024-09-27T16:10:44.949Z"
   },
   {
    "duration": 10,
    "start_time": "2024-09-27T16:10:44.994Z"
   },
   {
    "duration": 12,
    "start_time": "2024-09-27T16:10:45.006Z"
   },
   {
    "duration": 13,
    "start_time": "2024-09-27T16:10:45.020Z"
   },
   {
    "duration": 75,
    "start_time": "2024-09-27T16:10:45.035Z"
   },
   {
    "duration": 2,
    "start_time": "2024-09-27T16:12:16.599Z"
   },
   {
    "duration": 116,
    "start_time": "2024-09-27T16:12:16.604Z"
   },
   {
    "duration": 10,
    "start_time": "2024-09-27T16:12:16.721Z"
   },
   {
    "duration": 24,
    "start_time": "2024-09-27T16:12:16.732Z"
   },
   {
    "duration": 5,
    "start_time": "2024-09-27T16:12:16.759Z"
   },
   {
    "duration": 23,
    "start_time": "2024-09-27T16:12:16.765Z"
   },
   {
    "duration": 3,
    "start_time": "2024-09-27T16:12:16.791Z"
   },
   {
    "duration": 19,
    "start_time": "2024-09-27T16:12:16.796Z"
   },
   {
    "duration": 26,
    "start_time": "2024-09-27T16:12:16.816Z"
   },
   {
    "duration": 46,
    "start_time": "2024-09-27T16:12:16.844Z"
   },
   {
    "duration": 40,
    "start_time": "2024-09-27T16:12:16.891Z"
   },
   {
    "duration": 63,
    "start_time": "2024-09-27T16:12:16.933Z"
   },
   {
    "duration": 46,
    "start_time": "2024-09-27T16:12:16.998Z"
   },
   {
    "duration": 49,
    "start_time": "2024-09-27T16:12:17.047Z"
   },
   {
    "duration": 5,
    "start_time": "2024-09-27T16:12:17.098Z"
   },
   {
    "duration": 4,
    "start_time": "2024-09-27T16:12:17.105Z"
   },
   {
    "duration": 32,
    "start_time": "2024-09-27T16:12:17.111Z"
   },
   {
    "duration": 5,
    "start_time": "2024-09-27T16:12:17.144Z"
   },
   {
    "duration": 39,
    "start_time": "2024-09-27T16:12:17.151Z"
   },
   {
    "duration": 17,
    "start_time": "2024-09-27T16:12:17.191Z"
   },
   {
    "duration": 11,
    "start_time": "2024-09-27T16:12:17.210Z"
   },
   {
    "duration": 16,
    "start_time": "2024-09-27T16:12:17.223Z"
   },
   {
    "duration": 14,
    "start_time": "2024-09-27T16:12:17.240Z"
   },
   {
    "duration": 82,
    "start_time": "2024-09-27T16:12:17.255Z"
   },
   {
    "duration": 2,
    "start_time": "2024-09-27T16:12:52.411Z"
   },
   {
    "duration": 116,
    "start_time": "2024-09-27T16:12:56.077Z"
   },
   {
    "duration": 9,
    "start_time": "2024-09-27T16:13:03.639Z"
   },
   {
    "duration": 24,
    "start_time": "2024-09-27T16:13:10.183Z"
   },
   {
    "duration": 3,
    "start_time": "2024-09-27T16:13:18.015Z"
   },
   {
    "duration": 7,
    "start_time": "2024-09-27T16:13:22.446Z"
   },
   {
    "duration": 3,
    "start_time": "2024-09-27T16:13:26.640Z"
   },
   {
    "duration": 21,
    "start_time": "2024-09-27T16:13:29.455Z"
   },
   {
    "duration": 27,
    "start_time": "2024-09-27T16:13:32.535Z"
   },
   {
    "duration": 21,
    "start_time": "2024-09-27T16:13:36.378Z"
   },
   {
    "duration": 41,
    "start_time": "2024-09-27T16:13:39.558Z"
   },
   {
    "duration": 52,
    "start_time": "2024-09-27T16:13:43.354Z"
   },
   {
    "duration": 46,
    "start_time": "2024-09-27T16:13:49.075Z"
   },
   {
    "duration": 42,
    "start_time": "2024-09-27T16:13:53.666Z"
   },
   {
    "duration": 8,
    "start_time": "2024-09-27T16:13:57.859Z"
   },
   {
    "duration": 3,
    "start_time": "2024-09-27T16:14:06.083Z"
   },
   {
    "duration": 30,
    "start_time": "2024-09-27T16:14:09.963Z"
   },
   {
    "duration": 6,
    "start_time": "2024-09-27T16:14:13.755Z"
   },
   {
    "duration": 15,
    "start_time": "2024-09-27T16:14:26.810Z"
   },
   {
    "duration": 18,
    "start_time": "2024-09-27T16:14:31.063Z"
   },
   {
    "duration": 11,
    "start_time": "2024-09-27T16:14:35.287Z"
   },
   {
    "duration": 14,
    "start_time": "2024-09-27T16:14:43.526Z"
   },
   {
    "duration": 14,
    "start_time": "2024-09-27T16:14:50.624Z"
   },
   {
    "duration": 47,
    "start_time": "2024-09-27T16:15:17.771Z"
   },
   {
    "duration": 14,
    "start_time": "2024-09-27T16:17:40.064Z"
   },
   {
    "duration": 12,
    "start_time": "2024-09-27T16:17:48.624Z"
   },
   {
    "duration": 18,
    "start_time": "2024-09-27T16:18:07.457Z"
   },
   {
    "duration": 14,
    "start_time": "2024-09-27T16:18:15.095Z"
   },
   {
    "duration": 272,
    "start_time": "2024-09-27T17:04:58.981Z"
   },
   {
    "duration": 138,
    "start_time": "2024-09-27T17:04:59.255Z"
   },
   {
    "duration": 14,
    "start_time": "2024-09-27T17:04:59.394Z"
   },
   {
    "duration": 23,
    "start_time": "2024-09-27T17:04:59.409Z"
   },
   {
    "duration": 2,
    "start_time": "2024-09-27T17:04:59.435Z"
   },
   {
    "duration": 6,
    "start_time": "2024-09-27T17:04:59.439Z"
   },
   {
    "duration": 3,
    "start_time": "2024-09-27T17:04:59.447Z"
   },
   {
    "duration": 18,
    "start_time": "2024-09-27T17:04:59.451Z"
   },
   {
    "duration": 57,
    "start_time": "2024-09-27T17:04:59.470Z"
   },
   {
    "duration": 16,
    "start_time": "2024-09-27T17:04:59.529Z"
   },
   {
    "duration": 38,
    "start_time": "2024-09-27T17:04:59.547Z"
   },
   {
    "duration": 43,
    "start_time": "2024-09-27T17:04:59.605Z"
   },
   {
    "duration": 40,
    "start_time": "2024-09-27T17:04:59.650Z"
   },
   {
    "duration": 38,
    "start_time": "2024-09-27T17:04:59.707Z"
   },
   {
    "duration": 6,
    "start_time": "2024-09-27T17:04:59.747Z"
   },
   {
    "duration": 4,
    "start_time": "2024-09-27T17:04:59.755Z"
   },
   {
    "duration": 55,
    "start_time": "2024-09-27T17:04:59.760Z"
   },
   {
    "duration": 6,
    "start_time": "2024-09-27T17:04:59.816Z"
   },
   {
    "duration": 14,
    "start_time": "2024-09-27T17:04:59.824Z"
   },
   {
    "duration": 14,
    "start_time": "2024-09-27T17:04:59.840Z"
   },
   {
    "duration": 10,
    "start_time": "2024-09-27T17:04:59.855Z"
   },
   {
    "duration": 40,
    "start_time": "2024-09-27T17:04:59.866Z"
   },
   {
    "duration": 11,
    "start_time": "2024-09-27T17:04:59.908Z"
   },
   {
    "duration": 490,
    "start_time": "2024-09-27T17:04:59.920Z"
   },
   {
    "duration": 45,
    "start_time": "2024-09-27T17:05:16.873Z"
   },
   {
    "duration": 47,
    "start_time": "2024-09-27T17:05:27.617Z"
   },
   {
    "duration": 46,
    "start_time": "2024-09-27T17:05:41.887Z"
   },
   {
    "duration": 8,
    "start_time": "2024-09-27T17:08:14.248Z"
   },
   {
    "duration": 38,
    "start_time": "2024-09-27T17:08:51.101Z"
   },
   {
    "duration": 3,
    "start_time": "2024-09-27T17:10:00.895Z"
   },
   {
    "duration": 115,
    "start_time": "2024-09-27T17:10:00.900Z"
   },
   {
    "duration": 10,
    "start_time": "2024-09-27T17:10:01.017Z"
   },
   {
    "duration": 20,
    "start_time": "2024-09-27T17:10:01.029Z"
   },
   {
    "duration": 2,
    "start_time": "2024-09-27T17:10:01.052Z"
   },
   {
    "duration": 7,
    "start_time": "2024-09-27T17:10:01.056Z"
   },
   {
    "duration": 3,
    "start_time": "2024-09-27T17:10:01.065Z"
   },
   {
    "duration": 46,
    "start_time": "2024-09-27T17:10:01.069Z"
   },
   {
    "duration": 23,
    "start_time": "2024-09-27T17:10:01.117Z"
   },
   {
    "duration": 17,
    "start_time": "2024-09-27T17:10:01.141Z"
   },
   {
    "duration": 56,
    "start_time": "2024-09-27T17:10:01.160Z"
   },
   {
    "duration": 51,
    "start_time": "2024-09-27T17:10:01.220Z"
   },
   {
    "duration": 53,
    "start_time": "2024-09-27T17:10:01.273Z"
   },
   {
    "duration": 34,
    "start_time": "2024-09-27T17:10:01.327Z"
   },
   {
    "duration": 4,
    "start_time": "2024-09-27T17:10:01.363Z"
   },
   {
    "duration": 3,
    "start_time": "2024-09-27T17:10:01.369Z"
   },
   {
    "duration": 50,
    "start_time": "2024-09-27T17:10:01.373Z"
   },
   {
    "duration": 5,
    "start_time": "2024-09-27T17:10:01.424Z"
   },
   {
    "duration": 13,
    "start_time": "2024-09-27T17:10:01.431Z"
   },
   {
    "duration": 14,
    "start_time": "2024-09-27T17:10:01.445Z"
   },
   {
    "duration": 10,
    "start_time": "2024-09-27T17:10:01.461Z"
   },
   {
    "duration": 9,
    "start_time": "2024-09-27T17:10:11.989Z"
   },
   {
    "duration": 9,
    "start_time": "2024-09-27T17:10:38.138Z"
   },
   {
    "duration": 11,
    "start_time": "2024-09-27T17:11:10.354Z"
   },
   {
    "duration": 49,
    "start_time": "2024-09-27T17:12:31.173Z"
   },
   {
    "duration": 46,
    "start_time": "2024-09-27T17:13:28.649Z"
   },
   {
    "duration": 5,
    "start_time": "2024-09-27T17:13:43.391Z"
   },
   {
    "duration": 4,
    "start_time": "2024-09-27T17:14:16.040Z"
   },
   {
    "duration": 46,
    "start_time": "2024-09-27T17:14:40.396Z"
   },
   {
    "duration": 2,
    "start_time": "2024-09-27T17:14:48.550Z"
   },
   {
    "duration": 111,
    "start_time": "2024-09-27T17:14:48.557Z"
   },
   {
    "duration": 10,
    "start_time": "2024-09-27T17:14:48.670Z"
   },
   {
    "duration": 39,
    "start_time": "2024-09-27T17:14:48.682Z"
   },
   {
    "duration": 3,
    "start_time": "2024-09-27T17:14:48.724Z"
   },
   {
    "duration": 7,
    "start_time": "2024-09-27T17:14:48.729Z"
   },
   {
    "duration": 3,
    "start_time": "2024-09-27T17:14:48.738Z"
   },
   {
    "duration": 17,
    "start_time": "2024-09-27T17:14:48.743Z"
   },
   {
    "duration": 45,
    "start_time": "2024-09-27T17:14:48.761Z"
   },
   {
    "duration": 19,
    "start_time": "2024-09-27T17:14:48.807Z"
   },
   {
    "duration": 37,
    "start_time": "2024-09-27T17:14:48.829Z"
   },
   {
    "duration": 60,
    "start_time": "2024-09-27T17:14:48.868Z"
   },
   {
    "duration": 41,
    "start_time": "2024-09-27T17:14:48.930Z"
   },
   {
    "duration": 50,
    "start_time": "2024-09-27T17:14:48.972Z"
   },
   {
    "duration": 5,
    "start_time": "2024-09-27T17:14:49.023Z"
   },
   {
    "duration": 3,
    "start_time": "2024-09-27T17:14:49.030Z"
   },
   {
    "duration": 30,
    "start_time": "2024-09-27T17:14:49.034Z"
   },
   {
    "duration": 5,
    "start_time": "2024-09-27T17:14:49.065Z"
   },
   {
    "duration": 43,
    "start_time": "2024-09-27T17:14:49.072Z"
   },
   {
    "duration": 14,
    "start_time": "2024-09-27T17:14:49.117Z"
   },
   {
    "duration": 11,
    "start_time": "2024-09-27T17:14:49.132Z"
   },
   {
    "duration": 9,
    "start_time": "2024-09-27T17:14:49.144Z"
   },
   {
    "duration": 7,
    "start_time": "2024-09-27T17:14:49.155Z"
   },
   {
    "duration": 12,
    "start_time": "2024-09-27T17:14:57.354Z"
   },
   {
    "duration": 10,
    "start_time": "2024-09-27T17:15:03.450Z"
   },
   {
    "duration": 7,
    "start_time": "2024-09-27T17:15:10.394Z"
   },
   {
    "duration": 8,
    "start_time": "2024-09-27T17:15:16.201Z"
   },
   {
    "duration": 8,
    "start_time": "2024-09-27T17:15:36.814Z"
   }
  ],
  "kernelspec": {
   "display_name": "Python 3 (ipykernel)",
   "language": "python",
   "name": "python3"
  },
  "language_info": {
   "codemirror_mode": {
    "name": "ipython",
    "version": 3
   },
   "file_extension": ".py",
   "mimetype": "text/x-python",
   "name": "python",
   "nbconvert_exporter": "python",
   "pygments_lexer": "ipython3",
   "version": "3.9.19"
  },
  "toc": {
   "base_numbering": 1,
   "nav_menu": {},
   "number_sections": true,
   "sideBar": true,
   "skip_h1_title": true,
   "title_cell": "Table of Contents",
   "title_sidebar": "Contents",
   "toc_cell": false,
   "toc_position": {},
   "toc_section_display": true,
   "toc_window_display": false
  }
 },
 "nbformat": 4,
 "nbformat_minor": 5
}
